{
 "cells": [
  {
   "cell_type": "code",
   "execution_count": 1,
   "metadata": {},
   "outputs": [],
   "source": [
    "#### ::::: FirstEF benchmark ::::: ####"
   ]
  },
  {
   "cell_type": "code",
   "execution_count": 2,
   "metadata": {},
   "outputs": [],
   "source": [
    "import re\n",
    "import os\n",
    "import sys\n",
    "import math\n",
    "import pybedtools\n",
    "import numpy as np\n",
    "import pandas as pd\n",
    "from Bio import SeqIO\n",
    "from Bio.Seq import Seq"
   ]
  },
  {
   "cell_type": "code",
   "execution_count": 3,
   "metadata": {},
   "outputs": [],
   "source": [
    "dir_path = os.path.dirname(os.path.realpath('benchmark_FirstEF.ipynb'))"
   ]
  },
  {
   "cell_type": "code",
   "execution_count": 4,
   "metadata": {},
   "outputs": [],
   "source": [
    "firstef_pred_dir = dir_path + \"/../../data/promoter/FirstEF/HsFef_Promoter.txt\""
   ]
  },
  {
   "cell_type": "code",
   "execution_count": 5,
   "metadata": {},
   "outputs": [],
   "source": [
    "firstef_pred_df = pd.read_csv(firstef_pred_dir, sep='\\t',header=None, names=['chrom','start','end','prob','NA','strand'])\n",
    "firstef_pred_df.drop(['NA'],inplace=True,axis=1)\n",
    "firstef_pred_df['pred'] = [1 if prob > 0.5 else 0 for prob in firstef_pred_df['prob']]\n",
    "firstef_pred_df = firstef_pred_df[~firstef_pred_df['chrom'].isin(['chr23','chr24'])]"
   ]
  },
  {
   "cell_type": "code",
   "execution_count": 6,
   "metadata": {},
   "outputs": [
    {
     "name": "stderr",
     "output_type": "stream",
     "text": [
      "/home/yjq6148/.local/lib/python3.6/site-packages/pandas/core/frame.py:3697: SettingWithCopyWarning: \n",
      "A value is trying to be set on a copy of a slice from a DataFrame\n",
      "\n",
      "See the caveats in the documentation: http://pandas.pydata.org/pandas-docs/stable/indexing.html#indexing-view-versus-copy\n",
      "  errors=errors)\n",
      "/home/yjq6148/.conda/envs/deeplearning/lib/python3.6/site-packages/ipykernel_launcher.py:6: SettingWithCopyWarning: \n",
      "A value is trying to be set on a copy of a slice from a DataFrame.\n",
      "Try using .loc[row_indexer,col_indexer] = value instead\n",
      "\n",
      "See the caveats in the documentation: http://pandas.pydata.org/pandas-docs/stable/indexing.html#indexing-view-versus-copy\n",
      "  \n",
      "/home/yjq6148/.conda/envs/deeplearning/lib/python3.6/site-packages/ipykernel_launcher.py:7: SettingWithCopyWarning: \n",
      "A value is trying to be set on a copy of a slice from a DataFrame.\n",
      "Try using .loc[row_indexer,col_indexer] = value instead\n",
      "\n",
      "See the caveats in the documentation: http://pandas.pydata.org/pandas-docs/stable/indexing.html#indexing-view-versus-copy\n",
      "  import sys\n",
      "/home/yjq6148/.conda/envs/deeplearning/lib/python3.6/site-packages/ipykernel_launcher.py:8: SettingWithCopyWarning: \n",
      "A value is trying to be set on a copy of a slice from a DataFrame.\n",
      "Try using .loc[row_indexer,col_indexer] = value instead\n",
      "\n",
      "See the caveats in the documentation: http://pandas.pydata.org/pandas-docs/stable/indexing.html#indexing-view-versus-copy\n",
      "  \n",
      "/home/yjq6148/.conda/envs/deeplearning/lib/python3.6/site-packages/ipykernel_launcher.py:9: SettingWithCopyWarning: \n",
      "A value is trying to be set on a copy of a slice from a DataFrame.\n",
      "Try using .loc[row_indexer,col_indexer] = value instead\n",
      "\n",
      "See the caveats in the documentation: http://pandas.pydata.org/pandas-docs/stable/indexing.html#indexing-view-versus-copy\n",
      "  if __name__ == '__main__':\n"
     ]
    }
   ],
   "source": [
    "# split positive and negative prediction, convert to bed\n",
    "firstef_pred_pos_df = firstef_pred_df[firstef_pred_df['pred'] == 1]\n",
    "firstef_pred_neg_df = firstef_pred_df[firstef_pred_df['pred'] == 0]\n",
    "firstef_pred_pos_df.drop(['prob','pred'], inplace=True, axis=1)\n",
    "firstef_pred_neg_df.drop(['prob','pred'], inplace=True, axis=1)\n",
    "firstef_pred_pos_df['name'] = 'pos_' + firstef_pred_pos_df.index.astype('str')\n",
    "firstef_pred_neg_df['name'] = 'neg_' + firstef_pred_neg_df.index.astype('str')\n",
    "firstef_pred_pos_df['score'] = 1\n",
    "firstef_pred_neg_df['score'] = 1\n",
    "# reorder\n",
    "firstef_pred_pos_df = firstef_pred_pos_df[['chrom','start','end','name','score','strand']]\n",
    "firstef_pred_neg_df = firstef_pred_neg_df[['chrom','start','end','name','score','strand']]"
   ]
  },
  {
   "cell_type": "code",
   "execution_count": 7,
   "metadata": {},
   "outputs": [
    {
     "data": {
      "text/html": [
       "<div>\n",
       "<style scoped>\n",
       "    .dataframe tbody tr th:only-of-type {\n",
       "        vertical-align: middle;\n",
       "    }\n",
       "\n",
       "    .dataframe tbody tr th {\n",
       "        vertical-align: top;\n",
       "    }\n",
       "\n",
       "    .dataframe thead th {\n",
       "        text-align: right;\n",
       "    }\n",
       "</style>\n",
       "<table border=\"1\" class=\"dataframe\">\n",
       "  <thead>\n",
       "    <tr style=\"text-align: right;\">\n",
       "      <th></th>\n",
       "      <th>chrom</th>\n",
       "      <th>start</th>\n",
       "      <th>end</th>\n",
       "      <th>name</th>\n",
       "      <th>score</th>\n",
       "      <th>strand</th>\n",
       "    </tr>\n",
       "  </thead>\n",
       "  <tbody>\n",
       "    <tr>\n",
       "      <th>0</th>\n",
       "      <td>chr1</td>\n",
       "      <td>10696</td>\n",
       "      <td>11266</td>\n",
       "      <td>pos_0</td>\n",
       "      <td>1</td>\n",
       "      <td>+</td>\n",
       "    </tr>\n",
       "    <tr>\n",
       "      <th>1</th>\n",
       "      <td>chr1</td>\n",
       "      <td>24218</td>\n",
       "      <td>24788</td>\n",
       "      <td>pos_1</td>\n",
       "      <td>1</td>\n",
       "      <td>+</td>\n",
       "    </tr>\n",
       "    <tr>\n",
       "      <th>2</th>\n",
       "      <td>chr1</td>\n",
       "      <td>29260</td>\n",
       "      <td>29830</td>\n",
       "      <td>pos_2</td>\n",
       "      <td>1</td>\n",
       "      <td>+</td>\n",
       "    </tr>\n",
       "    <tr>\n",
       "      <th>3</th>\n",
       "      <td>chr1</td>\n",
       "      <td>28626</td>\n",
       "      <td>29196</td>\n",
       "      <td>pos_3</td>\n",
       "      <td>1</td>\n",
       "      <td>+</td>\n",
       "    </tr>\n",
       "    <tr>\n",
       "      <th>4</th>\n",
       "      <td>chr1</td>\n",
       "      <td>89691</td>\n",
       "      <td>90261</td>\n",
       "      <td>pos_4</td>\n",
       "      <td>1</td>\n",
       "      <td>+</td>\n",
       "    </tr>\n",
       "  </tbody>\n",
       "</table>\n",
       "</div>"
      ],
      "text/plain": [
       "  chrom  start    end   name  score strand\n",
       "0  chr1  10696  11266  pos_0      1      +\n",
       "1  chr1  24218  24788  pos_1      1      +\n",
       "2  chr1  29260  29830  pos_2      1      +\n",
       "3  chr1  28626  29196  pos_3      1      +\n",
       "4  chr1  89691  90261  pos_4      1      +"
      ]
     },
     "execution_count": 7,
     "metadata": {},
     "output_type": "execute_result"
    }
   ],
   "source": [
    "firstef_pred_pos_df.head()"
   ]
  },
  {
   "cell_type": "code",
   "execution_count": 8,
   "metadata": {},
   "outputs": [],
   "source": [
    "firstef_pred_pos = pybedtools.BedTool.from_dataframe(firstef_pred_pos_df)\n",
    "firstef_pred_neg = pybedtools.BedTool.from_dataframe(firstef_pred_neg_df)"
   ]
  },
  {
   "cell_type": "code",
   "execution_count": 9,
   "metadata": {},
   "outputs": [],
   "source": [
    "# read in TATA and noTATA test file\n",
    "tata_scan_df = pd.read_csv(dir_path + \"/../../data/promoter/human_epdnew_hg38_TATA_scan_test.csv\",index_col=0)\n",
    "tata_scan_df['score'] = 1\n",
    "notata_scan_df = pd.read_csv(dir_path + \"/../../data/promoter/human_epdnew_hg38_noTATA_scan_test.csv\",index_col=0)\n",
    "notata_scan_df['score'] = 1"
   ]
  },
  {
   "cell_type": "code",
   "execution_count": 10,
   "metadata": {},
   "outputs": [
    {
     "data": {
      "text/plain": [
       "54054"
      ]
     },
     "execution_count": 10,
     "metadata": {},
     "output_type": "execute_result"
    }
   ],
   "source": [
    "len(tata_scan_df)"
   ]
  },
  {
   "cell_type": "code",
   "execution_count": 11,
   "metadata": {},
   "outputs": [
    {
     "data": {
      "text/plain": [
       "491400"
      ]
     },
     "execution_count": 11,
     "metadata": {},
     "output_type": "execute_result"
    }
   ],
   "source": [
    "len(notata_scan_df)"
   ]
  },
  {
   "cell_type": "code",
   "execution_count": 12,
   "metadata": {},
   "outputs": [],
   "source": [
    "# convert to bedfile\n",
    "tata_scan_bed = pybedtools.BedTool.from_dataframe(tata_scan_df.drop(['label','keys','seq','id'],axis=1)[['chrom','start','end','name','score','strand']])\n",
    "notata_scan_bed = pybedtools.BedTool.from_dataframe(notata_scan_df.drop(['label','keys','seq','id'],axis=1)[['chrom','start','end','name','score','strand']])"
   ]
  },
  {
   "cell_type": "code",
   "execution_count": 45,
   "metadata": {},
   "outputs": [],
   "source": [
    "# # read in TATA and noTATA bedfile\n",
    "# tata_bed = pybedtools.BedTool(dir_path + \"/../../data/promoter/human_epdnew_hg38_TATA.bed\")\n",
    "# notata_bed = pybedtools.BedTool(dir_path + \"/../../data/promoter/human_epdnew_hg38_noTATA.bed\")\n",
    "# tata_prom_bed = tata_bed.slop(g=dir_path + \"/../../data/genome/chrom.sizes\",l=500,r=499) # -500 to 500\n",
    "# notata_prom_bed = notata_bed.slop(g=dir_path + \"/../../data/genome/chrom.sizes\",l=500,r=499) # -500 to 500"
   ]
  },
  {
   "cell_type": "code",
   "execution_count": 12,
   "metadata": {},
   "outputs": [
    {
     "name": "stdout",
     "output_type": "stream",
     "text": [
      "chr1\t999596\t1000596\tHES4_1\t1\t-\n",
      " chr1\t1012996\t1013996\tISG15_1\t1\t+\n",
      " chr1\t1918778\t1919778\tTMEM52_1\t1\t-\n",
      " chr1\t2526095\t2527095\tPANK4_1\t1\t-\n",
      " chr1\t2529762\t2530762\tHES5_1\t1\t-\n",
      " chr1\t3530910\t3531910\tMEGF6_1\t1\t-\n",
      " chr1\t3619117\t3620117\tTPRG1L_2\t1\t+\n",
      " chr1\t3652015\t3653015\tTP73_1\t1\t+\n",
      " chr1\t3690171\t3691171\tTP73_3\t1\t+\n",
      " chr1\t6602368\t6603368\tKLHL21_1\t1\t-\n",
      " "
     ]
    }
   ],
   "source": [
    "# tata_prom_bed.head()"
   ]
  },
  {
   "cell_type": "code",
   "execution_count": 46,
   "metadata": {},
   "outputs": [],
   "source": [
    "# # first find all FirstEF predictions that overlaps with true prom -500 to 500\n",
    "# # TATA\n",
    "# tata_firstef_pred_pos = tata_prom_bed.intersect(firstef_pred_pos,\n",
    "#                                 s=True, # Require same strandedness.  That is, only report hits in that overlap A on the **same** strand.\n",
    "#                                 F=500E-9, # Minimum overlap required as a fraction of B\n",
    "# #                                 f=0.9,\n",
    "#                                 u=True, # Write the original A entry **once** if **any** overlaps found in B\n",
    "#                                 )\n",
    "# # noTATA\n",
    "# notata_firstef_pred_pos = notata_prom_bed.intersect(firstef_pred_pos,\n",
    "#                                 s=True, # Require same strandedness.  That is, only report hits in that overlap A on the **same** strand.\n",
    "#                                 F=500E-9, # Minimum overlap required as a fraction of B\n",
    "# #                                 f=0.9,\n",
    "#                                 u=True, # Write the original A entry **once** if **any** overlaps found in B\n",
    "#                                 )"
   ]
  },
  {
   "cell_type": "code",
   "execution_count": 42,
   "metadata": {},
   "outputs": [
    {
     "data": {
      "text/plain": [
       "1395"
      ]
     },
     "execution_count": 42,
     "metadata": {},
     "output_type": "execute_result"
    }
   ],
   "source": [
    "# len(tata_firstef_pred_pos)"
   ]
  },
  {
   "cell_type": "code",
   "execution_count": 44,
   "metadata": {},
   "outputs": [],
   "source": [
    "# # then overlap scan peaks with firstef positive predictions\n",
    "# # TATA\n",
    "# tata_scan_bed_pos = tata_scan_bed.intersect(tata_firstef_pred_pos,\n",
    "#                                 s=True, # Require same strandedness.  That is, only report hits in that overlap A on the **same** strand.\n",
    "#                                 F=500E-9, # Minimum overlap required as a fraction of B\n",
    "#                                 u=True, # Write the original A entry **once** if **any** overlaps found in B\n",
    "#                                 )\n",
    "# tata_scan_bed_neg = tata_scan_bed.intersect(tata_firstef_pred_pos,\n",
    "#                                 s=True, # Require same strandedness.  That is, only report hits in that overlap A on the **same** strand.\n",
    "#                                 F=500E-9, # Minimum overlap required as a fraction of B\n",
    "#                                 v=True, # Only report those entries in A that have **no overlaps** with B.\n",
    "#                                 )\n",
    "\n",
    "# # noTATA\n",
    "# notata_scan_bed_pos = notata_scan_bed.intersect(notata_firstef_pred_pos,\n",
    "#                                 s=True, # Require same strandedness.  That is, only report hits in that overlap A on the **same** strand.\n",
    "#                                 F=500E-9, # Minimum overlap required as a fraction of B\n",
    "#                                 u=True, # Write the original A entry **once** if **any** overlaps found in B\n",
    "#                                 )\n",
    "# notata_scan_bed_neg = notata_scan_bed.intersect(notata_firstef_pred_pos,\n",
    "#                                 s=True, # Require same strandedness.  That is, only report hits in that overlap A on the **same** strand.\n",
    "#                                 F=500E-9, # Minimum overlap required as a fraction of B\n",
    "#                                 v=True, # Only report those entries in A that have **no overlaps** with B.\n",
    "#                                 )"
   ]
  },
  {
   "cell_type": "code",
   "execution_count": 65,
   "metadata": {},
   "outputs": [],
   "source": [
    "# # then overlap scan peaks with firstef positive predictions\n",
    "# # TATA\n",
    "# tata_scan_bed_pos = tata_scan_bed.intersect(tata_firstef_pred_pos,\n",
    "#                                 s=True, # Require same strandedness.  That is, only report hits in that overlap A on the **same** strand.\n",
    "#                                 F=500E-9, # Minimum overlap required as a fraction of B\n",
    "#                                 u=True, # Write the original A entry **once** if **any** overlaps found in B\n",
    "#                                 )\n",
    "# # tata_scan_bed_neg = tata_scan_bed.intersect(tata_firstef_pred_pos,\n",
    "# #                                 s=True, # Require same strandedness.  That is, only report hits in that overlap A on the **same** strand.\n",
    "# #                                 F=500E-9, # Minimum overlap required as a fraction of B\n",
    "# #                                 v=True, # Only report those entries in A that have **no overlaps** with B.\n",
    "# #                                 )\n",
    "# tata_scan_bed_neg_1 = tata_scan_bed.intersect(firstef_pred_neg,\n",
    "#                                 s=True, # Require same strandedness.  That is, only report hits in that overlap A on the **same** strand.\n",
    "#                                 F=500E-9, # Minimum overlap required as a fraction of B\n",
    "#                                 u=True, # Write the original A entry **once** if **any** overlaps found in B\n",
    "#                                 )\n",
    "\n",
    "# tata_scan_bed_neg_2 = tata_scan_bed.intersect(firstef_pred_pos,\n",
    "#                                 s=True, # Require same strandedness.  That is, only report hits in that overlap A on the **same** strand.\n",
    "#                                 F=500E-9, # Minimum overlap required as a fraction of B\n",
    "#                                 v=True, # Only report those entries in A that have **no overlaps** with B.\n",
    "#                                 )\n",
    "# tata_scan_bed_neg = tata_scan_bed_neg_1.cat(tata_scan_bed_neg_2, postmerge=False)\n",
    "\n",
    "# # noTATA\n",
    "# notata_scan_bed_pos = notata_scan_bed.intersect(notata_firstef_pred_pos,\n",
    "#                                 s=True, # Require same strandedness.  That is, only report hits in that overlap A on the **same** strand.\n",
    "#                                 F=500E-9, # Minimum overlap required as a fraction of B\n",
    "#                                 u=True, # Write the original A entry **once** if **any** overlaps found in B\n",
    "#                                 )\n",
    "# # notata_scan_bed_neg = notata_scan_bed.intersect(notata_firstef_pred_pos,\n",
    "# #                                 s=True, # Require same strandedness.  That is, only report hits in that overlap A on the **same** strand.\n",
    "# #                                 F=500E-9, # Minimum overlap required as a fraction of B\n",
    "# #                                 v=True, # Only report those entries in A that have **no overlaps** with B.\n",
    "# #                                 )\n",
    "# notata_scan_bed_neg_1 = notata_scan_bed.intersect(firstef_pred_neg,\n",
    "#                                 s=True, # Require same strandedness.  That is, only report hits in that overlap A on the **same** strand.\n",
    "#                                 F=500E-9, # Minimum overlap required as a fraction of B\n",
    "#                                 u=True, # Write the original A entry **once** if **any** overlaps found in B\n",
    "#                                 )\n",
    "\n",
    "# notata_scan_bed_neg_2 = notata_scan_bed.intersect(firstef_pred_pos,\n",
    "#                                 s=True, # Require same strandedness.  That is, only report hits in that overlap A on the **same** strand.\n",
    "#                                 F=500E-9, # Minimum overlap required as a fraction of B\n",
    "#                                 v=True, # Only report those entries in A that have **no overlaps** with B.\n",
    "#                                 )\n",
    "# notata_scan_bed_neg = notata_scan_bed_neg_1.cat(notata_scan_bed_neg_2, postmerge=False)"
   ]
  },
  {
   "cell_type": "code",
   "execution_count": 21,
   "metadata": {},
   "outputs": [],
   "source": [
    "# # align and find overlap peaks in prom_bed\n",
    "# # TATA\n",
    "# tata_scan_bed_pos = tata_scan_bed.intersect(firstef_pred_pos,\n",
    "#                                 s=True, # Require same strandedness.  That is, only report hits in that overlap A on the **same** strand.\n",
    "#                                 F=500E-9, # Minimum overlap required as a fraction of B\n",
    "#                                 u=True, # Write the original A entry **once** if **any** overlaps found in B\n",
    "#                                 )\n",
    "\n",
    "# tata_scan_bed_neg_1 = tata_scan_bed.intersect(firstef_pred_neg,\n",
    "#                                 s=True, # Require same strandedness.  That is, only report hits in that overlap A on the **same** strand.\n",
    "#                                 F=500E-9, # Minimum overlap required as a fraction of B\n",
    "#                                 u=True, # Write the original A entry **once** if **any** overlaps found in B\n",
    "#                                 )\n",
    "# tata_scan_bed_neg_2 = tata_scan_bed.intersect(firstef_pred_neg,\n",
    "#                                 s=True, # Require same strandedness.  That is, only report hits in that overlap A on the **same** strand.\n",
    "#                                 F=500E-9, # Minimum overlap required as a fraction of B\n",
    "#                                 v=True, # Only report those entries in A that have **no overlaps** with B.\n",
    "#                                 ).intersect(firstef_pred_pos,\n",
    "#                                 s=True, # Require same strandedness.  That is, only report hits in that overlap A on the **same** strand.\n",
    "#                                 F=500E-9, # Minimum overlap required as a fraction of B\n",
    "#                                 v=True, # Only report those entries in A that have **no overlaps** with B.\n",
    "#                                 )\n",
    "# tata_scan_bed_neg = tata_scan_bed_neg_1.cat(tata_scan_bed_neg_2, postmerge=False)\n",
    "# # tata_scan_bed_neg = tata_scan_bed_neg_1\n",
    "\n",
    "# # noTATA\n",
    "# notata_scan_bed_pos = notata_scan_bed.intersect(firstef_pred_pos,\n",
    "#                                 s=True, # Require same strandedness.  That is, only report hits in that overlap A on the **same** strand.\n",
    "#                                 F=500E-9, # Minimum overlap required as a fraction of B\n",
    "#                                 u=True, # Write the original A entry **once** if **any** overlaps found in B\n",
    "#                                 )\n",
    "\n",
    "# notata_scan_bed_neg_1 = notata_scan_bed.intersect(firstef_pred_neg,\n",
    "#                                 s=True, # Require same strandedness.  That is, only report hits in that overlap A on the **same** strand.\n",
    "#                                 F=500E-9, # Minimum overlap required as a fraction of B\n",
    "#                                 u=True, # Write the original A entry **once** if **any** overlaps found in B\n",
    "#                                 )\n",
    "\n",
    "# notata_scan_bed_neg_2 = notata_scan_bed.intersect(firstef_pred_neg,\n",
    "#                                 s=True, # Require same strandedness.  That is, only report hits in that overlap A on the **same** strand.\n",
    "#                                 F=500E-9, # Minimum overlap required as a fraction of B\n",
    "#                                 v=True, # Only report those entries in A that have **no overlaps** with B.\n",
    "#                                 ).intersect(firstef_pred_pos,\n",
    "#                                 s=True, # Require same strandedness.  That is, only report hits in that overlap A on the **same** strand.\n",
    "#                                 F=500E-9, # Minimum overlap required as a fraction of B\n",
    "#                                 v=True, # Only report those entries in A that have **no overlaps** with B.\n",
    "#                                 )\n",
    "# notata_scan_bed_neg = notata_scan_bed_neg_1.cat(notata_scan_bed_neg_2, postmerge=False)\n",
    "# # notata_scan_bed_neg = notata_scan_bed_neg_1"
   ]
  },
  {
   "cell_type": "code",
   "execution_count": 29,
   "metadata": {},
   "outputs": [],
   "source": [
    "# # align and find overlap peaks in prom_bed\n",
    "# # TATA\n",
    "# tata_scan_bed_pos = tata_scan_bed.intersect(firstef_pred_pos,\n",
    "#                                 s=True, # Require same strandedness.  That is, only report hits in that overlap A on the **same** strand.\n",
    "#                                 F=500E-9, # Minimum overlap required as a fraction of B\n",
    "#                                 u=True, # Write the original A entry **once** if **any** overlaps found in B\n",
    "#                                 )\n",
    "\n",
    "# tata_scan_bed_neg_1 = tata_scan_bed.intersect(firstef_pred_neg,\n",
    "#                                 s=True, # Require same strandedness.  That is, only report hits in that overlap A on the **same** strand.\n",
    "#                                 F=500E-9, # Minimum overlap required as a fraction of B\n",
    "#                                 u=True, # Write the original A entry **once** if **any** overlaps found in B\n",
    "#                                 )\n",
    "# tata_scan_bed_neg_2 = tata_scan_bed.intersect(firstef_pred_neg,\n",
    "#                                 s=True, # Require same strandedness.  That is, only report hits in that overlap A on the **same** strand.\n",
    "#                                 F=500E-9, # Minimum overlap required as a fraction of B\n",
    "#                                 v=True, # Only report those entries in A that have **no overlaps** with B.\n",
    "#                                 )\n",
    "# tata_scan_bed_neg = tata_scan_bed_neg_1.cat(tata_scan_bed_neg_2, postmerge=False)\n",
    "\n",
    "# # noTATA\n",
    "# notata_scan_bed_pos = notata_scan_bed.intersect(firstef_pred_pos,\n",
    "#                                 s=True, # Require same strandedness.  That is, only report hits in that overlap A on the **same** strand.\n",
    "#                                 F=500E-9, # Minimum overlap required as a fraction of B\n",
    "#                                 u=True, # Write the original A entry **once** if **any** overlaps found in B\n",
    "#                                 )\n",
    "\n",
    "# notata_scan_bed_neg_1 = notata_scan_bed.intersect(firstef_pred_neg,\n",
    "#                                 s=True, # Require same strandedness.  That is, only report hits in that overlap A on the **same** strand.\n",
    "#                                 F=500E-9, # Minimum overlap required as a fraction of B\n",
    "#                                 u=True, # Write the original A entry **once** if **any** overlaps found in B\n",
    "#                                 )\n",
    "\n",
    "# notata_scan_bed_neg_2 = notata_scan_bed.intersect(firstef_pred_neg,\n",
    "#                                 s=True, # Require same strandedness.  That is, only report hits in that overlap A on the **same** strand.\n",
    "#                                 F=500E-9, # Minimum overlap required as a fraction of B\n",
    "#                                 v=True, # Only report those entries in A that have **no overlaps** with B.\n",
    "#                                 )\n",
    "# notata_scan_bed_neg = notata_scan_bed_neg_1.cat(notata_scan_bed_neg_2, postmerge=False)"
   ]
  },
  {
   "cell_type": "code",
   "execution_count": 89,
   "metadata": {},
   "outputs": [],
   "source": [
    "# align and find overlap peaks in prom_bed\n",
    "# TATA\n",
    "tata_scan_bed_pos = tata_scan_bed.intersect(firstef_pred_pos,\n",
    "                                s=True, # Require same strandedness.  That is, only report hits in that overlap A on the **same** strand.\n",
    "                                F=1.0, # Minimum overlap required as a fraction of B\n",
    "                                u=True, # Write the original A entry **once** if **any** overlaps found in B\n",
    "                                )\n",
    "\n",
    "tata_scan_bed_neg = tata_scan_bed.intersect(firstef_pred_pos,\n",
    "                                s=True, # Require same strandedness.  That is, only report hits in that overlap A on the **same** strand.\n",
    "                                F=1.0, # Minimum overlap required as a fraction of B\n",
    "                                v=True, # Only report those entries in A that have **no overlaps** with B.\n",
    "                                )\n",
    "\n",
    "# noTATA\n",
    "notata_scan_bed_pos = notata_scan_bed.intersect(firstef_pred_pos,\n",
    "                                s=True, # Require same strandedness.  That is, only report hits in that overlap A on the **same** strand.\n",
    "                                F=1.0, # Minimum overlap required as a fraction of B\n",
    "                                u=True, # Write the original A entry **once** if **any** overlaps found in B\n",
    "                                )\n",
    "\n",
    "notata_scan_bed_neg = notata_scan_bed.intersect(firstef_pred_pos,\n",
    "                                s=True, # Require same strandedness.  That is, only report hits in that overlap A on the **same** strand.\n",
    "                                F=1.0, # Minimum overlap required as a fraction of B\n",
    "                                v=True, # Only report those entries in A that have **no overlaps** with B.\n",
    "                                )"
   ]
  },
  {
   "cell_type": "code",
   "execution_count": 90,
   "metadata": {},
   "outputs": [
    {
     "name": "stdout",
     "output_type": "stream",
     "text": [
      "2564 51490 28248 463152\n"
     ]
    }
   ],
   "source": [
    "print(len(tata_scan_bed_pos), len(tata_scan_bed_neg),len(notata_scan_bed_pos),len(notata_scan_bed_neg))"
   ]
  },
  {
   "cell_type": "code",
   "execution_count": 91,
   "metadata": {},
   "outputs": [],
   "source": [
    "# convert to df\n",
    "tata_prom_pos_df = tata_scan_bed_pos.to_dataframe()\n",
    "tata_prom_neg_df = tata_scan_bed_neg.to_dataframe()\n",
    "notata_prom_pos_df = notata_scan_bed_pos.to_dataframe()\n",
    "notata_prom_neg_df = notata_scan_bed_neg.to_dataframe()\n",
    "\n",
    "# add pred\n",
    "tata_prom_pos_df['pred'] = 1\n",
    "tata_prom_neg_df['pred'] = 0\n",
    "notata_prom_pos_df['pred'] = 1\n",
    "notata_prom_neg_df['pred'] = 0\n",
    "\n",
    "# concatenate\n",
    "tata_prom_df = pd.concat([tata_prom_pos_df,tata_prom_neg_df])\n",
    "notata_prom_df = pd.concat([notata_prom_pos_df, notata_prom_neg_df])"
   ]
  },
  {
   "cell_type": "code",
   "execution_count": 92,
   "metadata": {},
   "outputs": [
    {
     "data": {
      "text/html": [
       "<div>\n",
       "<style scoped>\n",
       "    .dataframe tbody tr th:only-of-type {\n",
       "        vertical-align: middle;\n",
       "    }\n",
       "\n",
       "    .dataframe tbody tr th {\n",
       "        vertical-align: top;\n",
       "    }\n",
       "\n",
       "    .dataframe thead th {\n",
       "        text-align: right;\n",
       "    }\n",
       "</style>\n",
       "<table border=\"1\" class=\"dataframe\">\n",
       "  <thead>\n",
       "    <tr style=\"text-align: right;\">\n",
       "      <th></th>\n",
       "      <th>chrom</th>\n",
       "      <th>start</th>\n",
       "      <th>end</th>\n",
       "      <th>name</th>\n",
       "      <th>score</th>\n",
       "      <th>strand</th>\n",
       "      <th>pred</th>\n",
       "    </tr>\n",
       "  </thead>\n",
       "  <tbody>\n",
       "    <tr>\n",
       "      <th>0</th>\n",
       "      <td>chr7</td>\n",
       "      <td>143315211</td>\n",
       "      <td>143316211</td>\n",
       "      <td>FP001328_CLCN1_1_2407</td>\n",
       "      <td>1</td>\n",
       "      <td>+</td>\n",
       "      <td>1</td>\n",
       "    </tr>\n",
       "    <tr>\n",
       "      <th>1</th>\n",
       "      <td>chr7</td>\n",
       "      <td>143315311</td>\n",
       "      <td>143316311</td>\n",
       "      <td>FP001328_CLCN1_1_2408</td>\n",
       "      <td>1</td>\n",
       "      <td>+</td>\n",
       "      <td>1</td>\n",
       "    </tr>\n",
       "    <tr>\n",
       "      <th>2</th>\n",
       "      <td>chr7</td>\n",
       "      <td>143315411</td>\n",
       "      <td>143316411</td>\n",
       "      <td>FP001328_CLCN1_1_2409</td>\n",
       "      <td>1</td>\n",
       "      <td>+</td>\n",
       "      <td>1</td>\n",
       "    </tr>\n",
       "    <tr>\n",
       "      <th>3</th>\n",
       "      <td>chr7</td>\n",
       "      <td>143315511</td>\n",
       "      <td>143316511</td>\n",
       "      <td>FP001328_CLCN1_1_2410</td>\n",
       "      <td>1</td>\n",
       "      <td>+</td>\n",
       "      <td>1</td>\n",
       "    </tr>\n",
       "    <tr>\n",
       "      <th>4</th>\n",
       "      <td>chr17</td>\n",
       "      <td>7854177</td>\n",
       "      <td>7855177</td>\n",
       "      <td>FP002383_NAA38_3_4017</td>\n",
       "      <td>1</td>\n",
       "      <td>+</td>\n",
       "      <td>1</td>\n",
       "    </tr>\n",
       "  </tbody>\n",
       "</table>\n",
       "</div>"
      ],
      "text/plain": [
       "   chrom      start        end                   name  score strand  pred\n",
       "0   chr7  143315211  143316211  FP001328_CLCN1_1_2407      1      +     1\n",
       "1   chr7  143315311  143316311  FP001328_CLCN1_1_2408      1      +     1\n",
       "2   chr7  143315411  143316411  FP001328_CLCN1_1_2409      1      +     1\n",
       "3   chr7  143315511  143316511  FP001328_CLCN1_1_2410      1      +     1\n",
       "4  chr17    7854177    7855177  FP002383_NAA38_3_4017      1      +     1"
      ]
     },
     "execution_count": 92,
     "metadata": {},
     "output_type": "execute_result"
    }
   ],
   "source": [
    "tata_prom_df.head()"
   ]
  },
  {
   "cell_type": "code",
   "execution_count": 93,
   "metadata": {},
   "outputs": [],
   "source": [
    "# merge with reference\n",
    "tata_prom_ref = pd.read_csv(dir_path + \"/../../data/promoter/human_epdnew_hg38_TATA_scan_test.csv\",index_col=0)\n",
    "tata_prom_df = tata_prom_df.merge(tata_prom_ref, on='name')\n",
    "notata_prom_ref = pd.read_csv(dir_path + \"/../../data/promoter/human_epdnew_hg38_noTATA_scan_test.csv\",index_col=0)\n",
    "notata_prom_df = notata_prom_df.merge(notata_prom_ref, on='name')"
   ]
  },
  {
   "cell_type": "code",
   "execution_count": 94,
   "metadata": {},
   "outputs": [
    {
     "name": "stdout",
     "output_type": "stream",
     "text": [
      "accuracy =  0.9078329078329078\n",
      "precision =  0.3720748829953198\n",
      "recall =  0.22052704576976423\n",
      "F1 =  0.2769230769230769\n",
      "MCC =  0.24017601957700835\n"
     ]
    }
   ],
   "source": [
    "## metrics\n",
    "# TATA\n",
    "TP = len(tata_prom_df[(tata_prom_df['label'] == 1) & (tata_prom_df['pred'] == 1)])\n",
    "FP = len(tata_prom_df[(tata_prom_df['label'] == 0) & (tata_prom_df['pred'] == 1)])\n",
    "FN = len(tata_prom_df[(tata_prom_df['label'] == 1) & (tata_prom_df['pred'] == 0)])\n",
    "TN = len(tata_prom_df[(tata_prom_df['label'] == 0) & (tata_prom_df['pred'] == 0)])\n",
    "\n",
    "accuracy = (TP+TN)/(TP+TN+FP+FN)\n",
    "precision = TP/(TP + FP)\n",
    "recall = TP/(TP + FN)\n",
    "F1 = 2*precision*recall/(precision+recall)\n",
    "MCC = (TP*TN - FP*FN)/(((TP+FP)*(TP+FN)*(TN+FP)*(TN+FN))**0.5)\n",
    "\n",
    "print(\"accuracy = \", accuracy)\n",
    "print(\"precision = \", precision)\n",
    "print(\"recall = \", recall)\n",
    "print(\"F1 = \", F1)\n",
    "print(\"MCC = \", MCC)"
   ]
  },
  {
   "cell_type": "code",
   "execution_count": 95,
   "metadata": {},
   "outputs": [
    {
     "name": "stdout",
     "output_type": "stream",
     "text": [
      "accuracy =  0.9054477004477004\n",
      "precision =  0.4746530727839139\n",
      "recall =  0.2977504385867514\n",
      "F1 =  0.36594385840418125\n",
      "MCC =  0.3278536996851556\n"
     ]
    }
   ],
   "source": [
    "# noTATA\n",
    "TP = len(notata_prom_df[(notata_prom_df['label'] == 1) & (notata_prom_df['pred'] == 1)])\n",
    "FP = len(notata_prom_df[(notata_prom_df['label'] == 0) & (notata_prom_df['pred'] == 1)])\n",
    "FN = len(notata_prom_df[(notata_prom_df['label'] == 1) & (notata_prom_df['pred'] == 0)])\n",
    "TN = len(notata_prom_df[(notata_prom_df['label'] == 0) & (notata_prom_df['pred'] == 0)])\n",
    "\n",
    "accuracy = (TP+TN)/(TP+TN+FP+FN)\n",
    "precision = TP/(TP + FP)\n",
    "recall = TP/(TP + FN)\n",
    "F1 = 2*precision*recall/(precision+recall)\n",
    "MCC = (TP*TN - FP*FN)/(((TP+FP)*(TP+FN)*(TN+FP)*(TN+FN))**0.5)\n",
    "\n",
    "print(\"accuracy = \", accuracy)\n",
    "print(\"precision = \", precision)\n",
    "print(\"recall = \", recall)\n",
    "print(\"F1 = \", F1)\n",
    "print(\"MCC = \", MCC)"
   ]
  },
  {
   "cell_type": "code",
   "execution_count": 96,
   "metadata": {},
   "outputs": [
    {
     "name": "stdout",
     "output_type": "stream",
     "text": [
      "accuracy =  0.905684072350739\n",
      "precision =  0.46611709723484357\n",
      "recall =  0.2909820288915453\n",
      "F1 =  0.358293105813968\n",
      "MCC =  0.32038125575954496\n"
     ]
    }
   ],
   "source": [
    "# combined\n",
    "scan_dev = pd.concat([tata_prom_df, notata_prom_df])\n",
    "\n",
    "## metrics\n",
    "TP = len(scan_dev[(scan_dev['label'] == 1) & (scan_dev['pred'] == 1)])\n",
    "FP = len(scan_dev[(scan_dev['label'] == 0) & (scan_dev['pred'] == 1)])\n",
    "FN = len(scan_dev[(scan_dev['label'] == 1) & (scan_dev['pred'] == 0)])\n",
    "TN = len(scan_dev[(scan_dev['label'] == 0) & (scan_dev['pred'] == 0)])\n",
    "\n",
    "accuracy = (TP+TN)/(TP+TN+FP+FN)\n",
    "precision = TP/(TP + FP)\n",
    "recall = TP/(TP + FN)\n",
    "F1 = 2*precision*recall/(precision+recall)\n",
    "MCC = (TP*TN - FP*FN)/(((TP+FP)*(TP+FN)*(TN+FP)*(TN+FN))**0.5)\n",
    "\n",
    "print(\"accuracy = \", accuracy)\n",
    "print(\"precision = \", precision)\n",
    "print(\"recall = \", recall)\n",
    "print(\"F1 = \", F1)\n",
    "print(\"MCC = \", MCC)"
   ]
  },
  {
   "cell_type": "code",
   "execution_count": null,
   "metadata": {},
   "outputs": [],
   "source": []
  }
 ],
 "metadata": {
  "kernelspec": {
   "display_name": "Python 3",
   "language": "python",
   "name": "python3"
  },
  "language_info": {
   "codemirror_mode": {
    "name": "ipython",
    "version": 3
   },
   "file_extension": ".py",
   "mimetype": "text/x-python",
   "name": "python",
   "nbconvert_exporter": "python",
   "pygments_lexer": "ipython3",
   "version": "3.6.7"
  }
 },
 "nbformat": 4,
 "nbformat_minor": 4
}
