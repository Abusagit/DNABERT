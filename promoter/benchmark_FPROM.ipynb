{
 "cells": [
  {
   "cell_type": "code",
   "execution_count": 1,
   "metadata": {},
   "outputs": [],
   "source": [
    "#### ::::: FPROM benchmark ::::: ####"
   ]
  },
  {
   "cell_type": "code",
   "execution_count": 2,
   "metadata": {},
   "outputs": [],
   "source": [
    "import re\n",
    "import os\n",
    "import sys\n",
    "import math\n",
    "import pybedtools\n",
    "import numpy as np\n",
    "import pandas as pd\n",
    "from Bio import SeqIO\n",
    "from Bio.Seq import Seq"
   ]
  },
  {
   "cell_type": "code",
   "execution_count": 3,
   "metadata": {},
   "outputs": [],
   "source": [
    "dir_path = os.path.dirname(os.path.realpath('benchmark_FPROM.ipynb'))"
   ]
  },
  {
   "cell_type": "code",
   "execution_count": 4,
   "metadata": {},
   "outputs": [],
   "source": [
    "fprom_pred_tata_dir = dir_path + \"/../../data/promoter/FPROM/tata_results.txt\"\n",
    "fprom_pred_notata_dir = dir_path + \"/../../data/promoter/FPROM/notata_results.txt\""
   ]
  },
  {
   "cell_type": "code",
   "execution_count": 5,
   "metadata": {},
   "outputs": [],
   "source": [
    "# load into dict\n",
    "# TATA\n",
    "fprom_pred_tata = {}\n",
    "with open(fprom_pred_tata_dir) as f:\n",
    "    name = ''\n",
    "    for line in f:\n",
    "        if 'Name: ' in line: \n",
    "            name = line.split('Name: ')[1].split(' ')[0]\n",
    "        elif 'Promoter/Enhancer(s) are predicted' in line:\n",
    "            n_pred = line.strip('\\t').strip(' ').split(' ')[0]\n",
    "            pred = 1 if int(n_pred) >= 1 else 0\n",
    "            fprom_pred_tata[name] = pred\n",
    "\n",
    "# TATA\n",
    "fprom_pred_notata = {}\n",
    "with open(fprom_pred_notata_dir) as f:\n",
    "    name = ''\n",
    "    for line in f:\n",
    "        if 'Name: ' in line: \n",
    "            name = line.split('Name: ')[1].split(' ')[0]\n",
    "        elif 'Promoter/Enhancer(s) are predicted' in line:\n",
    "            n_pred = line.strip('\\t').strip(' ').split(' ')[0]\n",
    "            pred = 1 if int(n_pred) >= 1 else 0\n",
    "            fprom_pred_notata[name] = pred"
   ]
  },
  {
   "cell_type": "code",
   "execution_count": 6,
   "metadata": {},
   "outputs": [],
   "source": [
    "# convert to df\n",
    "# TATA\n",
    "tata_prom_df = pd.DataFrame.from_dict(fprom_pred_tata,orient='index',columns=['pred'])\n",
    "# noTATA\n",
    "notata_prom_df = pd.DataFrame.from_dict(fprom_pred_notata,orient='index',columns=['pred'])"
   ]
  },
  {
   "cell_type": "code",
   "execution_count": 7,
   "metadata": {},
   "outputs": [],
   "source": [
    "# merge with reference\n",
    "tata_prom_ref = pd.read_csv(dir_path + \"/../../data/promoter/human_epdnew_hg38_TATA_scan_test.csv\",index_col=0)\n",
    "tata_prom_df = tata_prom_df.merge(tata_prom_ref, left_index=True, right_on='name')\n",
    "notata_prom_ref = pd.read_csv(dir_path + \"/../../data/promoter/human_epdnew_hg38_noTATA_scan_test.csv\",index_col=0)\n",
    "notata_prom_df = notata_prom_df.merge(notata_prom_ref, left_index=True, right_on='name')"
   ]
  },
  {
   "cell_type": "code",
   "execution_count": 8,
   "metadata": {},
   "outputs": [
    {
     "name": "stdout",
     "output_type": "stream",
     "text": [
      "accuracy =  0.5707255707255707\n",
      "precision =  0.1228925289652417\n",
      "recall =  0.7110494683310218\n",
      "F1 =  0.20956533587682244\n",
      "MCC =  0.14669074822347083\n"
     ]
    }
   ],
   "source": [
    "## metrics\n",
    "# TATA\n",
    "TP = len(tata_prom_df[(tata_prom_df['label'] == 1) & (tata_prom_df['pred'] == 1)])\n",
    "FP = len(tata_prom_df[(tata_prom_df['label'] == 0) & (tata_prom_df['pred'] == 1)])\n",
    "FN = len(tata_prom_df[(tata_prom_df['label'] == 1) & (tata_prom_df['pred'] == 0)])\n",
    "TN = len(tata_prom_df[(tata_prom_df['label'] == 0) & (tata_prom_df['pred'] == 0)])\n",
    "\n",
    "accuracy = (TP + TN)/(TP+FP+FN+TN)\n",
    "precision = TP/(TP + FP)\n",
    "recall = TP/(TP + FN)\n",
    "F1 = 2*precision*recall/(precision+recall)\n",
    "MCC = (TP*TN - FP*FN)/(((TP+FP)*(TP+FN)*(TN+FP)*(TN+FN))**0.5)\n",
    "\n",
    "print(\"accuracy = \", accuracy)\n",
    "print(\"precision = \", precision)\n",
    "print(\"recall = \", recall)\n",
    "print(\"F1 = \", F1)\n",
    "print(\"MCC = \", MCC)"
   ]
  },
  {
   "cell_type": "code",
   "execution_count": 9,
   "metadata": {},
   "outputs": [
    {
     "name": "stdout",
     "output_type": "stream",
     "text": [
      "accuracy =  0.5611619861619862\n",
      "precision =  0.14067646687165664\n",
      "recall =  0.7416668517243676\n",
      "F1 =  0.23649540966077873\n",
      "MCC =  0.16432697412005723\n"
     ]
    }
   ],
   "source": [
    "# noTATA\n",
    "TP = len(notata_prom_df[(notata_prom_df['label'] == 1) & (notata_prom_df['pred'] == 1)])\n",
    "FP = len(notata_prom_df[(notata_prom_df['label'] == 0) & (notata_prom_df['pred'] == 1)])\n",
    "FN = len(notata_prom_df[(notata_prom_df['label'] == 1) & (notata_prom_df['pred'] == 0)])\n",
    "TN = len(notata_prom_df[(notata_prom_df['label'] == 0) & (notata_prom_df['pred'] == 0)])\n",
    "\n",
    "accuracy = (TP + TN)/(TP+FP+FN+TN)\n",
    "precision = TP/(TP + FP)\n",
    "recall = TP/(TP + FN)\n",
    "F1 = 2*precision*recall/(precision+recall)\n",
    "MCC = (TP*TN - FP*FN)/(((TP+FP)*(TP+FN)*(TN+FP)*(TN+FN))**0.5)\n",
    "\n",
    "print(\"accuracy = \", accuracy)\n",
    "print(\"precision = \", precision)\n",
    "print(\"recall = \", recall)\n",
    "print(\"F1 = \", F1)\n",
    "print(\"MCC = \", MCC)"
   ]
  },
  {
   "cell_type": "code",
   "execution_count": 10,
   "metadata": {},
   "outputs": [
    {
     "name": "stdout",
     "output_type": "stream",
     "text": [
      "accuracy =  0.5621097287763954\n",
      "precision =  0.1389803383630544\n",
      "recall =  0.7389833255667889\n",
      "F1 =  0.23395991622754547\n",
      "MCC =  0.16277410537307302\n"
     ]
    }
   ],
   "source": [
    "# combined\n",
    "scan_dev = pd.concat([tata_prom_df, notata_prom_df])\n",
    "\n",
    "## metrics\n",
    "TP = len(scan_dev[(scan_dev['label'] == 1) & (scan_dev['pred'] == 1)])\n",
    "FP = len(scan_dev[(scan_dev['label'] == 0) & (scan_dev['pred'] == 1)])\n",
    "FN = len(scan_dev[(scan_dev['label'] == 1) & (scan_dev['pred'] == 0)])\n",
    "TN = len(scan_dev[(scan_dev['label'] == 0) & (scan_dev['pred'] == 0)])\n",
    "\n",
    "accuracy = (TP + TN)/(TP+FP+FN+TN)\n",
    "precision = TP/(TP + FP)\n",
    "recall = TP/(TP + FN)\n",
    "F1 = 2*precision*recall/(precision+recall)\n",
    "MCC = (TP*TN - FP*FN)/(((TP+FP)*(TP+FN)*(TN+FP)*(TN+FN))**0.5)\n",
    "\n",
    "print(\"accuracy = \", accuracy)\n",
    "print(\"precision = \", precision)\n",
    "print(\"recall = \", recall)\n",
    "print(\"F1 = \", F1)\n",
    "print(\"MCC = \", MCC)"
   ]
  },
  {
   "cell_type": "code",
   "execution_count": null,
   "metadata": {},
   "outputs": [],
   "source": []
  }
 ],
 "metadata": {
  "kernelspec": {
   "display_name": "Python 3",
   "language": "python",
   "name": "python3"
  },
  "language_info": {
   "codemirror_mode": {
    "name": "ipython",
    "version": 3
   },
   "file_extension": ".py",
   "mimetype": "text/x-python",
   "name": "python",
   "nbconvert_exporter": "python",
   "pygments_lexer": "ipython3",
   "version": "3.6.7"
  }
 },
 "nbformat": 4,
 "nbformat_minor": 4
}
