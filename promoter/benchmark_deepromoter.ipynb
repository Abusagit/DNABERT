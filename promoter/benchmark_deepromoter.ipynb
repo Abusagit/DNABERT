{
 "cells": [
  {
   "cell_type": "code",
   "execution_count": 1,
   "metadata": {},
   "outputs": [],
   "source": [
    "#### ::::: deepromoter benchmark ::::: ####"
   ]
  },
  {
   "cell_type": "code",
   "execution_count": 6,
   "metadata": {},
   "outputs": [],
   "source": [
    "import os\n",
    "import math\n",
    "import numpy as np\n",
    "import pandas as pd"
   ]
  },
  {
   "cell_type": "code",
   "execution_count": 7,
   "metadata": {},
   "outputs": [],
   "source": [
    "dir_path = os.path.dirname(os.path.realpath('benchmark_deepromoter.ipynb'))"
   ]
  },
  {
   "cell_type": "code",
   "execution_count": 8,
   "metadata": {},
   "outputs": [],
   "source": [
    "dev_TATA_dir = dir_path + \"/../../data/promoter/tata_dev_300.tsv\"\n",
    "dev_noTATA_dir = dir_path + \"/../../data/promoter/notata_dev_300.tsv\""
   ]
  },
  {
   "cell_type": "code",
   "execution_count": 9,
   "metadata": {},
   "outputs": [],
   "source": [
    "dev_TATA_df = pd.read_csv(dev_TATA_dir, sep=\"\\t\")\n",
    "dev_noTATA_df = pd.read_csv(dev_noTATA_dir, sep=\"\\t\")"
   ]
  },
  {
   "cell_type": "code",
   "execution_count": 26,
   "metadata": {},
   "outputs": [],
   "source": [
    "## read in deepromoter predictions\n",
    "# TATA\n",
    "dpm_pred_TATA = pd.read_csv(dir_path + \"/../../results/benchmark/deepromoter/dev_tata_300.txt\", header=None)\n",
    "dpm_pred_TATA.loc[dpm_pred_TATA[1] == \"Promoter Sequnce\", 'pred'] = 1\n",
    "dpm_pred_TATA.loc[dpm_pred_TATA[1] == \"Not a Promoter Sequnce\", 'pred'] = 0\n",
    "dev_TATA_df['pred'] = dpm_pred_TATA['pred'].astype(int)"
   ]
  },
  {
   "cell_type": "code",
   "execution_count": 27,
   "metadata": {},
   "outputs": [],
   "source": [
    "## metrics\n",
    "TP = len(dev_TATA_df[(dev_TATA_df['label'] == 1) & (dev_TATA_df['pred'] == 1)])\n",
    "FP = len(dev_TATA_df[(dev_TATA_df['label'] == 0) & (dev_TATA_df['pred'] == 1)])\n",
    "FN = len(dev_TATA_df[(dev_TATA_df['label'] == 1) & (dev_TATA_df['pred'] == 0)])\n",
    "TN = len(dev_TATA_df[(dev_TATA_df['label'] == 0) & (dev_TATA_df['pred'] == 0)])"
   ]
  },
  {
   "cell_type": "code",
   "execution_count": 28,
   "metadata": {},
   "outputs": [],
   "source": [
    "accuracy = (TP + TN)/(TP+FP+FN+TN)\n",
    "precision = TP/(TP + FP)\n",
    "recall = TP/(TP + FN)\n",
    "F1 = 2*precision*recall/(precision+recall)\n",
    "MCC = (TP*TN - FP*FN)/(((TP+FP)*(TP+FN)*(TN+FP)*(TN+FN))**0.5)"
   ]
  },
  {
   "cell_type": "code",
   "execution_count": 29,
   "metadata": {},
   "outputs": [
    {
     "name": "stdout",
     "output_type": "stream",
     "text": [
      "accuracy =  0.5849673202614379\n",
      "precision =  0.5297619047619048\n",
      "recall =  0.9401408450704225\n",
      "F1 =  0.6776649746192894\n",
      "MCC =  0.28463457788449315\n"
     ]
    }
   ],
   "source": [
    "print(\"accuracy = \", accuracy)\n",
    "print(\"precision = \", precision)\n",
    "print(\"recall = \", recall)\n",
    "print(\"F1 = \", F1)\n",
    "print(\"MCC = \", MCC)"
   ]
  },
  {
   "cell_type": "code",
   "execution_count": 30,
   "metadata": {},
   "outputs": [],
   "source": [
    "# noTATA\n",
    "dpm_pred_noTATA = pd.read_csv(dir_path + \"/../../results/benchmark/deepromoter/dev_notata_300_1.txt\", header=None)\n",
    "for i in range(2, 7):\n",
    "    df = pd.read_csv(dir_path + \"/../../results/benchmark/deepromoter/dev_notata_300_{}.txt\".format(i), header=None)\n",
    "    dpm_pred_noTATA = pd.concat([dpm_pred_noTATA,df])\n",
    "dpm_pred_noTATA.reset_index(drop=True, inplace = True)"
   ]
  },
  {
   "cell_type": "code",
   "execution_count": 31,
   "metadata": {},
   "outputs": [],
   "source": [
    "dpm_pred_noTATA.loc[dpm_pred_noTATA[1] == \"Promoter Sequnce\", 'pred'] = 1\n",
    "dpm_pred_noTATA.loc[dpm_pred_noTATA[1] == \"Not a Promoter Sequnce\", 'pred'] = 0\n",
    "dev_noTATA_df['pred'] = dpm_pred_noTATA['pred'].astype(int)"
   ]
  },
  {
   "cell_type": "code",
   "execution_count": 32,
   "metadata": {},
   "outputs": [],
   "source": [
    "## metrics\n",
    "TP = len(dev_noTATA_df[(dev_noTATA_df['label'] == 1) & (dev_noTATA_df['pred'] == 1)])\n",
    "FP = len(dev_noTATA_df[(dev_noTATA_df['label'] == 0) & (dev_noTATA_df['pred'] == 1)])\n",
    "FN = len(dev_noTATA_df[(dev_noTATA_df['label'] == 1) & (dev_noTATA_df['pred'] == 0)])\n",
    "TN = len(dev_noTATA_df[(dev_noTATA_df['label'] == 0) & (dev_noTATA_df['pred'] == 0)])"
   ]
  },
  {
   "cell_type": "code",
   "execution_count": 33,
   "metadata": {},
   "outputs": [],
   "source": [
    "accuracy = (TP + TN)/(TP+FP+FN+TN)\n",
    "precision = TP/(TP + FP)\n",
    "recall = TP/(TP + FN)\n",
    "F1 = 2*precision*recall/(precision+recall)\n",
    "MCC = (TP*TN - FP*FN)/(((TP+FP)*(TP+FN)*(TN+FP)*(TN+FN))**0.5)"
   ]
  },
  {
   "cell_type": "code",
   "execution_count": 34,
   "metadata": {},
   "outputs": [
    {
     "name": "stdout",
     "output_type": "stream",
     "text": [
      "accuracy =  0.9555136663524977\n",
      "precision =  0.9855363599839293\n",
      "recall =  0.9246136449302677\n",
      "F1 =  0.9541034616880593\n",
      "MCC =  0.9127746551426453\n"
     ]
    }
   ],
   "source": [
    "print(\"accuracy = \", accuracy)\n",
    "print(\"precision = \", precision)\n",
    "print(\"recall = \", recall)\n",
    "print(\"F1 = \", F1)\n",
    "print(\"MCC = \", MCC)"
   ]
  },
  {
   "cell_type": "code",
   "execution_count": null,
   "metadata": {},
   "outputs": [],
   "source": []
  },
  {
   "cell_type": "code",
   "execution_count": 35,
   "metadata": {},
   "outputs": [],
   "source": [
    "# combine\n",
    "TP = len(dev_TATA_df[(dev_TATA_df['label'] == 1) & (dev_TATA_df['pred'] == 1)]) + \\\n",
    "    len(dev_noTATA_df[(dev_noTATA_df['label'] == 1) & (dev_noTATA_df['pred'] == 1)]) \n",
    "FP = len(dev_TATA_df[(dev_TATA_df['label'] == 0) & (dev_TATA_df['pred'] == 1)]) + \\\n",
    "    len(dev_noTATA_df[(dev_noTATA_df['label'] == 0) & (dev_noTATA_df['pred'] == 1)])\n",
    "FN = len(dev_TATA_df[(dev_TATA_df['label'] == 1) & (dev_TATA_df['pred'] == 0)]) + \\\n",
    "    len(dev_noTATA_df[(dev_noTATA_df['label'] == 1) & (dev_noTATA_df['pred'] == 0)])\n",
    "TN = len(dev_TATA_df[(dev_TATA_df['label'] == 0) & (dev_TATA_df['pred'] == 0)]) + \\\n",
    "    len(dev_noTATA_df[(dev_noTATA_df['label'] == 0) & (dev_noTATA_df['pred'] == 0)])"
   ]
  },
  {
   "cell_type": "code",
   "execution_count": 36,
   "metadata": {},
   "outputs": [],
   "source": [
    "accuracy = (TP + TN)/(TP+FP+FN+TN)\n",
    "precision = TP/(TP + FP)\n",
    "recall = TP/(TP + FN)\n",
    "F1 = 2*precision*recall/(precision+recall)\n",
    "MCC = (TP*TN - FP*FN)/(((TP+FP)*(TP+FN)*(TN+FP)*(TN+FN))**0.5)"
   ]
  },
  {
   "cell_type": "code",
   "execution_count": 37,
   "metadata": {},
   "outputs": [
    {
     "name": "stdout",
     "output_type": "stream",
     "text": [
      "accuracy =  0.9171877640696299\n",
      "precision =  0.9087871700634814\n",
      "recall =  0.9261150834184542\n",
      "F1 =  0.9173693086003374\n",
      "MCC =  0.834539053745279\n"
     ]
    }
   ],
   "source": [
    "print(\"accuracy = \", accuracy)\n",
    "print(\"precision = \", precision)\n",
    "print(\"recall = \", recall)\n",
    "print(\"F1 = \", F1)\n",
    "print(\"MCC = \", MCC)"
   ]
  },
  {
   "cell_type": "code",
   "execution_count": null,
   "metadata": {},
   "outputs": [],
   "source": []
  }
 ],
 "metadata": {
  "kernelspec": {
   "display_name": "Python 3",
   "language": "python",
   "name": "python3"
  },
  "language_info": {
   "codemirror_mode": {
    "name": "ipython",
    "version": 3
   },
   "file_extension": ".py",
   "mimetype": "text/x-python",
   "name": "python",
   "nbconvert_exporter": "python",
   "pygments_lexer": "ipython3",
   "version": "3.6.7"
  }
 },
 "nbformat": 4,
 "nbformat_minor": 4
}
