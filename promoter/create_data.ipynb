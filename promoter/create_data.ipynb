{
 "cells": [
  {
   "cell_type": "code",
   "execution_count": 1,
   "metadata": {},
   "outputs": [],
   "source": [
    "######### ::: create promoter prediction training data ::: ##########"
   ]
  },
  {
   "cell_type": "code",
   "execution_count": 2,
   "metadata": {},
   "outputs": [],
   "source": [
    "import re\n",
    "import os\n",
    "import sys\n",
    "import math\n",
    "import random\n",
    "import numpy as np\n",
    "import pandas as pd\n",
    "from Bio import SeqIO\n",
    "from Bio import motifs\n",
    "from Bio.Seq import Seq"
   ]
  },
  {
   "cell_type": "code",
   "execution_count": 3,
   "metadata": {},
   "outputs": [],
   "source": [
    "dir_path = os.path.dirname(os.path.realpath('create_data.ipynb'))"
   ]
  },
  {
   "cell_type": "code",
   "execution_count": 4,
   "metadata": {},
   "outputs": [],
   "source": [
    "## read in fasta\n",
    "TATA_pos_dir = dir_path + \"/../data/promoter/human_epdnew_hg38_TATA_199to300.fa\"\n",
    "noTATA_pos_dir = dir_path + \"/../data/promoter/human_epdnew_hg38_noTATA_199to300.fa\""
   ]
  },
  {
   "cell_type": "code",
   "execution_count": 5,
   "metadata": {},
   "outputs": [],
   "source": [
    "## parse\n",
    "TATA_pos = SeqIO.to_dict(SeqIO.parse(open(TATA_pos_dir),'fasta'))\n",
    "noTATA_pos = SeqIO.to_dict(SeqIO.parse(open(noTATA_pos_dir),'fasta'))"
   ]
  },
  {
   "cell_type": "code",
   "execution_count": 6,
   "metadata": {},
   "outputs": [
    {
     "name": "stdout",
     "output_type": "stream",
     "text": [
      "3065\n",
      "26533\n"
     ]
    }
   ],
   "source": [
    "## positive df\n",
    "# TATA\n",
    "TATA_pos_df = pd.DataFrame({'seq':pd.DataFrame.from_dict(TATA_pos,orient='index').agg(''.join, axis=1),\n",
    "                            'label': 1,\n",
    "                            'TATA': 1})\n",
    "print(len(TATA_pos_df))\n",
    "# no TATA\n",
    "noTATA_pos_df = pd.DataFrame({'seq':pd.DataFrame.from_dict(noTATA_pos,orient='index').agg(''.join, axis=1),\n",
    "                            'label': 1,\n",
    "                            'TATA': 0})\n",
    "print(len(noTATA_pos_df))"
   ]
  },
  {
   "cell_type": "code",
   "execution_count": 7,
   "metadata": {},
   "outputs": [],
   "source": [
    "## create negative df\n",
    "# TATA\n",
    "TATA_neg_dir = dir_path + \"/../data/promoter/human_epdnew_hg38_TATA_neg_199to300.fa\"\n",
    "TATA_neg = SeqIO.to_dict(SeqIO.parse(open(TATA_neg_dir),'fasta'))\n",
    "\n",
    "# take a random sample of 3065\n",
    "random.seed(123)\n",
    "keep = random.sample(list(TATA_neg), len(TATA_pos_df))\n",
    "TATA_neg = {k:v for k, v in TATA_neg.items() if k in keep}"
   ]
  },
  {
   "cell_type": "code",
   "execution_count": 8,
   "metadata": {},
   "outputs": [],
   "source": [
    "TATA_neg_df = pd.DataFrame({'seq':pd.DataFrame.from_dict(TATA_neg,orient='index').agg(''.join, axis=1),\n",
    "                            'label': 0,\n",
    "                            'TATA': 1})"
   ]
  },
  {
   "cell_type": "code",
   "execution_count": 9,
   "metadata": {},
   "outputs": [
    {
     "data": {
      "text/plain": [
       "3065"
      ]
     },
     "execution_count": 9,
     "metadata": {},
     "output_type": "execute_result"
    }
   ],
   "source": [
    "len(TATA_neg_df)"
   ]
  },
  {
   "cell_type": "code",
   "execution_count": 10,
   "metadata": {},
   "outputs": [],
   "source": [
    "# noTATA\n",
    "def random_substitution(seq, fold=20, pct=0.6, **kwargs):\n",
    "    seq_len = len(seq)\n",
    "    subseq_len = int(seq_len/fold)\n",
    "    \n",
    "    seq_list = [str(seq[i*subseq_len:((i+1)*subseq_len)].seq) for i in range(fold)]\n",
    "    if str(seq[subseq_len*fold:seq_len].seq) != \"\":\n",
    "        seq_list.append(str(seq[subseq_len*fold:seq_len].seq))\n",
    "\n",
    "    sub_idx = random.sample(range(0,fold-1), int(fold*pct))\n",
    "    \n",
    "    # substitute\n",
    "    for i in sub_idx:\n",
    "        rand_seq = ''.join([random.choice(['A','T','C','G']) for n in range(subseq_len)])\n",
    "        seq_list[i] = rand_seq\n",
    "        \n",
    "    return ''.join(seq_list)"
   ]
  },
  {
   "cell_type": "code",
   "execution_count": 11,
   "metadata": {},
   "outputs": [],
   "source": [
    "random.seed(123)\n",
    "noTATA_neg = {k+'_neg':random_substitution(v) for k,v in noTATA_pos.items()}"
   ]
  },
  {
   "cell_type": "code",
   "execution_count": 12,
   "metadata": {},
   "outputs": [],
   "source": [
    "noTATA_neg_df = pd.DataFrame({'seq':pd.DataFrame.from_dict(noTATA_neg,orient='index').agg(''.join, axis=1),\n",
    "                            'label': 0,\n",
    "                            'TATA': 0})"
   ]
  },
  {
   "cell_type": "code",
   "execution_count": 13,
   "metadata": {},
   "outputs": [
    {
     "data": {
      "text/plain": [
       "26533"
      ]
     },
     "execution_count": 13,
     "metadata": {},
     "output_type": "execute_result"
    }
   ],
   "source": [
    "len(noTATA_neg_df)"
   ]
  },
  {
   "cell_type": "code",
   "execution_count": null,
   "metadata": {},
   "outputs": [],
   "source": []
  },
  {
   "cell_type": "code",
   "execution_count": 14,
   "metadata": {},
   "outputs": [],
   "source": [
    "# concatnate\n",
    "TATA_df = pd.concat([TATA_pos_df,TATA_neg_df])\n",
    "noTATA_df = pd.concat([noTATA_pos_df,noTATA_neg_df])"
   ]
  },
  {
   "cell_type": "code",
   "execution_count": 15,
   "metadata": {},
   "outputs": [],
   "source": [
    "TATA_df.to_csv(dir_path + \"/../data/promoter/TATA_199to300.csv\")\n",
    "noTATA_df.to_csv(dir_path + \"/../data/promoter/noTATA_199to300.csv\")"
   ]
  },
  {
   "cell_type": "code",
   "execution_count": 16,
   "metadata": {},
   "outputs": [],
   "source": [
    "with open(dir_path + \"/../data/promoter/TATA_199to300.tsv\",'w') as TATA_tsv:\n",
    "    TATA_tsv.write(TATA_df.to_csv(sep='\\t', index=False))"
   ]
  },
  {
   "cell_type": "code",
   "execution_count": 17,
   "metadata": {},
   "outputs": [],
   "source": [
    "with open(dir_path + \"/../data/promoter/noTATA_199to300.tsv\",'w') as noTATA_tsv:\n",
    "    noTATA_tsv.write(noTATA_df.to_csv(sep='\\t', index=False))"
   ]
  },
  {
   "cell_type": "code",
   "execution_count": null,
   "metadata": {},
   "outputs": [],
   "source": []
  }
 ],
 "metadata": {
  "kernelspec": {
   "display_name": "Python 3",
   "language": "python",
   "name": "python3"
  },
  "language_info": {
   "codemirror_mode": {
    "name": "ipython",
    "version": 3
   },
   "file_extension": ".py",
   "mimetype": "text/x-python",
   "name": "python",
   "nbconvert_exporter": "python",
   "pygments_lexer": "ipython3",
   "version": "3.6.7"
  }
 },
 "nbformat": 4,
 "nbformat_minor": 4
}
