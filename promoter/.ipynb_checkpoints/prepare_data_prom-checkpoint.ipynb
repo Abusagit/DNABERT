{
 "cells": [
  {
   "cell_type": "code",
   "execution_count": 1,
   "metadata": {},
   "outputs": [],
   "source": [
    "######## ::: Scan input fasta and prepare data (promoter only, not full genome) ::: ########"
   ]
  },
  {
   "cell_type": "code",
   "execution_count": 2,
   "metadata": {},
   "outputs": [],
   "source": [
    "#! conda install biopython"
   ]
  },
  {
   "cell_type": "code",
   "execution_count": 3,
   "metadata": {},
   "outputs": [],
   "source": [
    "import re\n",
    "import os\n",
    "import sys\n",
    "import math\n",
    "import pickle\n",
    "import pybedtools\n",
    "import numpy as np\n",
    "import pandas as pd\n",
    "from Bio import SeqIO\n",
    "from Bio.Seq import Seq\n",
    "import tensorflow as tf\n",
    "import multiprocessing as mp\n",
    "from Bio.SeqRecord import SeqRecord\n",
    "from Bio.Alphabet import generic_dna\n",
    "from tensorflow.python.util import deprecation\n",
    "deprecation._PRINT_DEPRECATION_WARNINGS = False # Supress tensorflow warning\n",
    "os.environ['TF_CPP_MIN_LOG_LEVEL'] = '3' # Supress tensorflow warning"
   ]
  },
  {
   "cell_type": "code",
   "execution_count": 4,
   "metadata": {},
   "outputs": [],
   "source": [
    "dir_path = os.path.dirname(os.path.realpath('prepare_data_prom.ipynb'))"
   ]
  },
  {
   "cell_type": "code",
   "execution_count": 5,
   "metadata": {},
   "outputs": [],
   "source": [
    "def clean_seq(s):\n",
    "    ns = s.upper()    \n",
    "    pattern = re.compile(r'\\s+')\n",
    "    ns = re.sub(pattern, '', ns)\n",
    "    ns = re.sub(r'[^a-zA-Z]{1}', 'N', ns)\n",
    "    return ns"
   ]
  },
  {
   "cell_type": "code",
   "execution_count": 120,
   "metadata": {},
   "outputs": [],
   "source": [
    "## read in fasta\n",
    "fasta_dir = dir_path + \"/../data/promoter/human_epdnew_hg38_noTATA.fa\"\n",
    "fasta = SeqIO.to_dict(SeqIO.parse(open(fasta_dir),'fasta'))"
   ]
  },
  {
   "cell_type": "code",
   "execution_count": 121,
   "metadata": {},
   "outputs": [],
   "source": [
    "# convert seq to str and clean seq\n",
    "fasta = {k+' '+v.description.split(' ')[1]: clean_seq(str(v.seq)) for k,v in fasta.items()}"
   ]
  },
  {
   "cell_type": "code",
   "execution_count": 122,
   "metadata": {},
   "outputs": [],
   "source": [
    "def scan(idx, seq, half_size, key, strand, ref):\n",
    "    subseq = seq[idx - half_size: idx + half_size + 1]\n",
    "    \n",
    "    # make index\n",
    "    if strand == \"-\":\n",
    "        idx1 = len(seq) - (idx + half_size) + 1\n",
    "        idx2 = len(seq) - (idx - half_size) + 1\n",
    "    else:\n",
    "        idx1 = idx - half_size + 1\n",
    "        idx2 = idx + half_size + 1\n",
    "    \n",
    "    chrom_num = \"UNKNOWN\"\n",
    "    ref_idx = 0\n",
    "    if ref is not None: # reference df in bed format, creating index\n",
    "        gene = key.split(' ')[1]\n",
    "        ref_idx = ref[ref['name'] == gene]['start'].item() - 5000\n",
    "        chrom_num = ref[ref['name'] == gene]['chrom'].item()\n",
    "        \n",
    "    ck = \"{}:{}-{} {} {}\".format(chrom_num, idx1+ref_idx, idx2+ref_idx, key, strand)\n",
    "    \n",
    "    if not 'N' in subseq:\n",
    "        return (ck, subseq)\n",
    "    else:\n",
    "        return None"
   ]
  },
  {
   "cell_type": "code",
   "execution_count": 123,
   "metadata": {},
   "outputs": [],
   "source": [
    "# read in true TSS bed file\n",
    "TSS_bed = pybedtools.BedTool(dir_path + \"/../data/promoter/human_epdnew_hg38_noTATA.bed\")"
   ]
  },
  {
   "cell_type": "code",
   "execution_count": 124,
   "metadata": {},
   "outputs": [],
   "source": [
    "TSS_bed_df = TSS_bed.to_dataframe()"
   ]
  },
  {
   "cell_type": "code",
   "execution_count": 125,
   "metadata": {},
   "outputs": [
    {
     "data": {
      "text/html": [
       "<div>\n",
       "<style scoped>\n",
       "    .dataframe tbody tr th:only-of-type {\n",
       "        vertical-align: middle;\n",
       "    }\n",
       "\n",
       "    .dataframe tbody tr th {\n",
       "        vertical-align: top;\n",
       "    }\n",
       "\n",
       "    .dataframe thead th {\n",
       "        text-align: right;\n",
       "    }\n",
       "</style>\n",
       "<table border=\"1\" class=\"dataframe\">\n",
       "  <thead>\n",
       "    <tr style=\"text-align: right;\">\n",
       "      <th></th>\n",
       "      <th>chrom</th>\n",
       "      <th>start</th>\n",
       "      <th>end</th>\n",
       "      <th>name</th>\n",
       "      <th>score</th>\n",
       "      <th>strand</th>\n",
       "    </tr>\n",
       "  </thead>\n",
       "  <tbody>\n",
       "    <tr>\n",
       "      <th>0</th>\n",
       "      <td>chr1</td>\n",
       "      <td>959255</td>\n",
       "      <td>959256</td>\n",
       "      <td>NOC2L_1</td>\n",
       "      <td>1</td>\n",
       "      <td>-</td>\n",
       "    </tr>\n",
       "    <tr>\n",
       "      <th>1</th>\n",
       "      <td>chr1</td>\n",
       "      <td>960632</td>\n",
       "      <td>960633</td>\n",
       "      <td>KLHL17_1</td>\n",
       "      <td>1</td>\n",
       "      <td>+</td>\n",
       "    </tr>\n",
       "    <tr>\n",
       "      <th>2</th>\n",
       "      <td>chr1</td>\n",
       "      <td>966481</td>\n",
       "      <td>966482</td>\n",
       "      <td>PLEKHN1_1</td>\n",
       "      <td>1</td>\n",
       "      <td>+</td>\n",
       "    </tr>\n",
       "    <tr>\n",
       "      <th>3</th>\n",
       "      <td>chr1</td>\n",
       "      <td>976680</td>\n",
       "      <td>976681</td>\n",
       "      <td>PERM1_1</td>\n",
       "      <td>1</td>\n",
       "      <td>-</td>\n",
       "    </tr>\n",
       "    <tr>\n",
       "      <th>4</th>\n",
       "      <td>chr1</td>\n",
       "      <td>1000510</td>\n",
       "      <td>1000511</td>\n",
       "      <td>ISG15_2</td>\n",
       "      <td>1</td>\n",
       "      <td>+</td>\n",
       "    </tr>\n",
       "  </tbody>\n",
       "</table>\n",
       "</div>"
      ],
      "text/plain": [
       "  chrom    start      end       name  score strand\n",
       "0  chr1   959255   959256    NOC2L_1      1      -\n",
       "1  chr1   960632   960633   KLHL17_1      1      +\n",
       "2  chr1   966481   966482  PLEKHN1_1      1      +\n",
       "3  chr1   976680   976681    PERM1_1      1      -\n",
       "4  chr1  1000510  1000511    ISG15_2      1      +"
      ]
     },
     "execution_count": 125,
     "metadata": {},
     "output_type": "execute_result"
    }
   ],
   "source": [
    "TSS_bed_df.head()"
   ]
  },
  {
   "cell_type": "code",
   "execution_count": 127,
   "metadata": {},
   "outputs": [],
   "source": [
    "# multiprocessing\n",
    "print(\"Number of processors: \", mp.cpu_count())\n",
    "pool = mp.Pool(mp.cpu_count())\n",
    "\n",
    "# globals\n",
    "scan_step = 100\n",
    "half_size = 500\n",
    "batch_size = 128\n",
    "start = half_size\n",
    "cutoff = 0.5\n",
    "proms = {}\n",
    "scores = {}\n",
    "\n",
    "i = 1\n",
    "for key in fasta.keys():\n",
    "#     print(\"* Processing \" + key)\n",
    "    print(i, end = \" \")\n",
    "    for strand in [\"+\", \"-\"]:\n",
    "#         print(\"  {} strand\".format(\"Positive\" if strand == \"+\" else \"Negative\"))\n",
    "        seq = fasta[key]\n",
    "        if strand == \"-\": \n",
    "            seq = seq[::-1]\n",
    "#         print(\"\\t - Scanning...\", end = \" \")\n",
    "        putative = pool.starmap(scan, [(i, seq, half_size, key, strand, TSS_bed_df) for i in range(start, len(seq) - half_size, scan_step)]) # multiprocessing\n",
    "        putative = list(filter(None,putative)) # filter subseq with N\n",
    "        proms.update({k: v for (k,v) in putative}) # store in dict\n",
    "        coords = [k for (k,v) in putative] # store coordinates separately\n",
    "        putative = [v for (k,v) in putative] # use only seq to predict\n",
    "        probs = []\n",
    "#         print(\"Done! Number of subsequences: {}\".format(len(putative)))\n",
    "    i+=1\n",
    "\n",
    "        \n",
    "pool.close()    "
   ]
  },
  {
   "cell_type": "code",
   "execution_count": 63,
   "metadata": {},
   "outputs": [
    {
     "data": {
      "text/plain": [
       "['chr17', '6072959-6073959', 'FP002372', 'WSCD1', '3', '+']"
      ]
     },
     "execution_count": 63,
     "metadata": {},
     "output_type": "execute_result"
    }
   ],
   "source": [
    "delim = re.split('[^a-zA-Z0-9+-]',list(proms.items())[0][0])\n",
    "delim"
   ]
  },
  {
   "cell_type": "code",
   "execution_count": 65,
   "metadata": {},
   "outputs": [],
   "source": [
    "# create bed file of the scans\n",
    "bed = []\n",
    "for i, x in enumerate(list(proms)):\n",
    "    delim = re.split('[^a-zA-Z0-9+-]',x)\n",
    "    coords = re.split('-',delim[1])\n",
    "    bed.append(\"{}\\t{}\\t{}\\t{}\\t1\\t{}\".format(delim[0],coords[0],coords[1],delim[2]+'_'+delim[3]+'_'+delim[4]+'_'+str(i),delim[5]))\n",
    "with open(dir_path + \"/../data/promoter/human_epdnew_hg38_noTATA_scan.bed\", 'w+') as f:\n",
    "    f.write('\\n'.join(bed))\n",
    "\n"
   ]
  },
  {
   "cell_type": "code",
   "execution_count": 67,
   "metadata": {},
   "outputs": [],
   "source": [
    "##### pybedtools #####\n",
    "# read in true TSS bed file, and make true promoter file -500 to 500 \n",
    "TSS_bed = pybedtools.BedTool(dir_path + \"/../data/promoter/human_epdnew_hg38.bed\")\n",
    "true_prom_bed = TSS_bed.slop(g=dir_path + \"/../data/genome/chrom.sizes\",l=500,r=499) # -500 to 500\n",
    "\n",
    "# read in scaned promoter bed files\n",
    "prom_bed = pybedtools.BedTool(dir_path + \"/../data/promoter/human_epdnew_hg38_noTATA_scan.bed\")\n"
   ]
  },
  {
   "cell_type": "code",
   "execution_count": 68,
   "metadata": {},
   "outputs": [],
   "source": [
    "# intersect to get label\n",
    "# True\n",
    "overlap_T = prom_bed.intersect(true_prom_bed,\n",
    "                                s=True, # Require same strandedness.  That is, only report hits in that overlap A on the **same** strand.\n",
    "                                f=0.5, # Minimum overlap required as a fraction of A\n",
    "                                u=True, # Write the original A entry **once** if **any** overlaps found in B\n",
    "                                r=True # Require that the fraction overlap be reciprocal for A AND B\n",
    "                                )\n",
    "\n",
    "# False\n",
    "overlap_N = prom_bed.intersect(true_prom_bed, \n",
    "                                v=True, # Only report those entries in A that have **no overlaps** with B.\n",
    "                                s=True, # Require same strandedness.  That is, only report hits in that overlap A on the **same** strand.\n",
    "                                f=0.5, # Minimum overlap required as a fraction of A\n",
    "                                r=True # Require that the fraction overlap be reciprocal for A AND B\n",
    "                                )"
   ]
  },
  {
   "cell_type": "code",
   "execution_count": 69,
   "metadata": {},
   "outputs": [
    {
     "data": {
      "text/plain": [
       "43352"
      ]
     },
     "execution_count": 69,
     "metadata": {},
     "output_type": "execute_result"
    }
   ],
   "source": [
    "len(overlap_T)"
   ]
  },
  {
   "cell_type": "code",
   "execution_count": 70,
   "metadata": {},
   "outputs": [
    {
     "data": {
      "text/plain": [
       "514478"
      ]
     },
     "execution_count": 70,
     "metadata": {},
     "output_type": "execute_result"
    }
   ],
   "source": [
    "len(overlap_N)"
   ]
  },
  {
   "cell_type": "code",
   "execution_count": 113,
   "metadata": {},
   "outputs": [],
   "source": [
    "assert len(prom_bed) == len(overlap_T) + len(overlap_N)"
   ]
  },
  {
   "cell_type": "code",
   "execution_count": 96,
   "metadata": {},
   "outputs": [],
   "source": [
    "# convert to dataframe, annotate sequences and labels\n",
    "overlap_T_df = overlap_T.to_dataframe()\n",
    "overlap_T_df.drop('score', axis=1, inplace=True)\n",
    "overlap_N_df = overlap_N.to_dataframe()\n",
    "overlap_N_df.drop('score', axis=1, inplace=True)\n",
    "\n",
    "# create label\n",
    "overlap_T_df['label'] = 1\n",
    "overlap_N_df['label'] = 0\n",
    "\n",
    "# concatenate\n",
    "overlap_df = pd.concat([overlap_T_df,overlap_N_df])"
   ]
  },
  {
   "cell_type": "code",
   "execution_count": 97,
   "metadata": {},
   "outputs": [
    {
     "data": {
      "text/html": [
       "<div>\n",
       "<style scoped>\n",
       "    .dataframe tbody tr th:only-of-type {\n",
       "        vertical-align: middle;\n",
       "    }\n",
       "\n",
       "    .dataframe tbody tr th {\n",
       "        vertical-align: top;\n",
       "    }\n",
       "\n",
       "    .dataframe thead th {\n",
       "        text-align: right;\n",
       "    }\n",
       "</style>\n",
       "<table border=\"1\" class=\"dataframe\">\n",
       "  <thead>\n",
       "    <tr style=\"text-align: right;\">\n",
       "      <th></th>\n",
       "      <th>chrom</th>\n",
       "      <th>start</th>\n",
       "      <th>end</th>\n",
       "      <th>name</th>\n",
       "      <th>strand</th>\n",
       "      <th>label</th>\n",
       "    </tr>\n",
       "  </thead>\n",
       "  <tbody>\n",
       "    <tr>\n",
       "      <th>0</th>\n",
       "      <td>chr17</td>\n",
       "      <td>6076959</td>\n",
       "      <td>6077959</td>\n",
       "      <td>FP002372_WSCD1_3_40</td>\n",
       "      <td>+</td>\n",
       "      <td>1</td>\n",
       "    </tr>\n",
       "    <tr>\n",
       "      <th>1</th>\n",
       "      <td>chr17</td>\n",
       "      <td>6077059</td>\n",
       "      <td>6078059</td>\n",
       "      <td>FP002372_WSCD1_3_41</td>\n",
       "      <td>+</td>\n",
       "      <td>1</td>\n",
       "    </tr>\n",
       "    <tr>\n",
       "      <th>2</th>\n",
       "      <td>chr17</td>\n",
       "      <td>6077159</td>\n",
       "      <td>6078159</td>\n",
       "      <td>FP002372_WSCD1_3_42</td>\n",
       "      <td>+</td>\n",
       "      <td>1</td>\n",
       "    </tr>\n",
       "    <tr>\n",
       "      <th>3</th>\n",
       "      <td>chr17</td>\n",
       "      <td>6077259</td>\n",
       "      <td>6078259</td>\n",
       "      <td>FP002372_WSCD1_3_43</td>\n",
       "      <td>+</td>\n",
       "      <td>1</td>\n",
       "    </tr>\n",
       "    <tr>\n",
       "      <th>4</th>\n",
       "      <td>chr17</td>\n",
       "      <td>6077359</td>\n",
       "      <td>6078359</td>\n",
       "      <td>FP002372_WSCD1_3_44</td>\n",
       "      <td>+</td>\n",
       "      <td>1</td>\n",
       "    </tr>\n",
       "  </tbody>\n",
       "</table>\n",
       "</div>"
      ],
      "text/plain": [
       "   chrom    start      end                 name strand  label\n",
       "0  chr17  6076959  6077959  FP002372_WSCD1_3_40      +      1\n",
       "1  chr17  6077059  6078059  FP002372_WSCD1_3_41      +      1\n",
       "2  chr17  6077159  6078159  FP002372_WSCD1_3_42      +      1\n",
       "3  chr17  6077259  6078259  FP002372_WSCD1_3_43      +      1\n",
       "4  chr17  6077359  6078359  FP002372_WSCD1_3_44      +      1"
      ]
     },
     "execution_count": 97,
     "metadata": {},
     "output_type": "execute_result"
    }
   ],
   "source": [
    "overlap_df.head()"
   ]
  },
  {
   "cell_type": "code",
   "execution_count": 104,
   "metadata": {},
   "outputs": [],
   "source": [
    "# add column of keys in overlap_df, to merge with proms (to get sequences)\n",
    "overlap_df[['name_1','name_2','name_3','name_4']] = overlap_df['name'].str.split(\"_\", expand = True)\n",
    "overlap_df['keys'] = overlap_df['chrom']+':'+overlap_df['start'].apply(str)+\"-\"+overlap_df['end'].apply(str)+\" \"+ overlap_df['name_1'] + \\\n",
    "    \" \" + overlap_df['name_2'] + \"_\" + overlap_df['name_3'] + \" \" + overlap_df['strand']\n",
    "overlap_df = overlap_df.drop(['name_1','name_2','name_3','name_4'], axis=1)"
   ]
  },
  {
   "cell_type": "code",
   "execution_count": 105,
   "metadata": {},
   "outputs": [
    {
     "data": {
      "text/html": [
       "<div>\n",
       "<style scoped>\n",
       "    .dataframe tbody tr th:only-of-type {\n",
       "        vertical-align: middle;\n",
       "    }\n",
       "\n",
       "    .dataframe tbody tr th {\n",
       "        vertical-align: top;\n",
       "    }\n",
       "\n",
       "    .dataframe thead th {\n",
       "        text-align: right;\n",
       "    }\n",
       "</style>\n",
       "<table border=\"1\" class=\"dataframe\">\n",
       "  <thead>\n",
       "    <tr style=\"text-align: right;\">\n",
       "      <th></th>\n",
       "      <th>chrom</th>\n",
       "      <th>start</th>\n",
       "      <th>end</th>\n",
       "      <th>name</th>\n",
       "      <th>strand</th>\n",
       "      <th>label</th>\n",
       "      <th>keys</th>\n",
       "    </tr>\n",
       "  </thead>\n",
       "  <tbody>\n",
       "    <tr>\n",
       "      <th>0</th>\n",
       "      <td>chr17</td>\n",
       "      <td>6076959</td>\n",
       "      <td>6077959</td>\n",
       "      <td>FP002372_WSCD1_3_40</td>\n",
       "      <td>+</td>\n",
       "      <td>1</td>\n",
       "      <td>chr17:6076959-6077959 FP002372 WSCD1_3 +</td>\n",
       "    </tr>\n",
       "    <tr>\n",
       "      <th>1</th>\n",
       "      <td>chr17</td>\n",
       "      <td>6077059</td>\n",
       "      <td>6078059</td>\n",
       "      <td>FP002372_WSCD1_3_41</td>\n",
       "      <td>+</td>\n",
       "      <td>1</td>\n",
       "      <td>chr17:6077059-6078059 FP002372 WSCD1_3 +</td>\n",
       "    </tr>\n",
       "    <tr>\n",
       "      <th>2</th>\n",
       "      <td>chr17</td>\n",
       "      <td>6077159</td>\n",
       "      <td>6078159</td>\n",
       "      <td>FP002372_WSCD1_3_42</td>\n",
       "      <td>+</td>\n",
       "      <td>1</td>\n",
       "      <td>chr17:6077159-6078159 FP002372 WSCD1_3 +</td>\n",
       "    </tr>\n",
       "    <tr>\n",
       "      <th>3</th>\n",
       "      <td>chr17</td>\n",
       "      <td>6077259</td>\n",
       "      <td>6078259</td>\n",
       "      <td>FP002372_WSCD1_3_43</td>\n",
       "      <td>+</td>\n",
       "      <td>1</td>\n",
       "      <td>chr17:6077259-6078259 FP002372 WSCD1_3 +</td>\n",
       "    </tr>\n",
       "    <tr>\n",
       "      <th>4</th>\n",
       "      <td>chr17</td>\n",
       "      <td>6077359</td>\n",
       "      <td>6078359</td>\n",
       "      <td>FP002372_WSCD1_3_44</td>\n",
       "      <td>+</td>\n",
       "      <td>1</td>\n",
       "      <td>chr17:6077359-6078359 FP002372 WSCD1_3 +</td>\n",
       "    </tr>\n",
       "  </tbody>\n",
       "</table>\n",
       "</div>"
      ],
      "text/plain": [
       "   chrom    start      end                 name strand  label  \\\n",
       "0  chr17  6076959  6077959  FP002372_WSCD1_3_40      +      1   \n",
       "1  chr17  6077059  6078059  FP002372_WSCD1_3_41      +      1   \n",
       "2  chr17  6077159  6078159  FP002372_WSCD1_3_42      +      1   \n",
       "3  chr17  6077259  6078259  FP002372_WSCD1_3_43      +      1   \n",
       "4  chr17  6077359  6078359  FP002372_WSCD1_3_44      +      1   \n",
       "\n",
       "                                       keys  \n",
       "0  chr17:6076959-6077959 FP002372 WSCD1_3 +  \n",
       "1  chr17:6077059-6078059 FP002372 WSCD1_3 +  \n",
       "2  chr17:6077159-6078159 FP002372 WSCD1_3 +  \n",
       "3  chr17:6077259-6078259 FP002372 WSCD1_3 +  \n",
       "4  chr17:6077359-6078359 FP002372 WSCD1_3 +  "
      ]
     },
     "execution_count": 105,
     "metadata": {},
     "output_type": "execute_result"
    }
   ],
   "source": [
    "overlap_df.head()"
   ]
  },
  {
   "cell_type": "code",
   "execution_count": 110,
   "metadata": {},
   "outputs": [],
   "source": [
    "# merge with proms\n",
    "proms_df = pd.DataFrame.from_dict(proms, orient = 'index', columns=['seq'])\n",
    "overlap_df = overlap_df.merge(proms_df, left_on = 'keys', right_index = True)"
   ]
  },
  {
   "cell_type": "code",
   "execution_count": 114,
   "metadata": {},
   "outputs": [],
   "source": [
    "overlap_df.to_csv(dir_path + \"/../data/promoter/human_epdnew_hg38_noTATA_scan.csv\")"
   ]
  },
  {
   "cell_type": "code",
   "execution_count": null,
   "metadata": {},
   "outputs": [],
   "source": []
  },
  {
   "cell_type": "code",
   "execution_count": 6,
   "metadata": {},
   "outputs": [],
   "source": [
    "# read in splitted test data files\n",
    "tata_dev = pd.read_csv(dir_path + \"/../data/promoter/tata_dev_199to300.tsv\", sep=\"\\t\")\n",
    "tata = pd.read_csv(dir_path + \"/../data/promoter/TATA_199to300.csv\", index_col=0)\n",
    "tata['id'] = tata.index\n",
    "tata = tata.merge(tata_dev, left_on='seq', right_on='setence')\n",
    "tata_id = tata['id']\n",
    "\n",
    "notata_dev = pd.read_csv(dir_path + \"/../data/promoter/notata_dev_199to300.tsv\", sep=\"\\t\")\n",
    "notata = pd.read_csv(dir_path + \"/../data/promoter/noTATA_199to300.csv\", index_col=0)\n",
    "notata['id'] = notata.index\n",
    "notata = notata.merge(notata_dev, left_on='seq', right_on='setence')\n",
    "notata_id = notata['id']"
   ]
  },
  {
   "cell_type": "code",
   "execution_count": 7,
   "metadata": {},
   "outputs": [],
   "source": [
    "# read in scan data\n",
    "tata_scan = pd.read_csv(dir_path + \"/../data/promoter/human_epdnew_hg38_TATA_scan.csv\", index_col=0)\n",
    "tata_scan[['id','name_2','name_3','name_4']] = tata_scan['name'].str.split(\"_\", expand = True)\n",
    "tata_scan.drop(['name_2','name_3','name_4'],inplace=True, axis=1)\n",
    "tata_scan_dev = tata_scan[tata_scan['id'].isin(tata_id)]\n",
    "tata_scan_train = tata_scan[~tata_scan['id'].isin(tata_id)]"
   ]
  },
  {
   "cell_type": "code",
   "execution_count": 8,
   "metadata": {},
   "outputs": [
    {
     "name": "stderr",
     "output_type": "stream",
     "text": [
      "/home/yjq6148/.local/lib/python3.6/site-packages/numpy/lib/arraysetops.py:569: FutureWarning: elementwise comparison failed; returning scalar instead, but in the future will perform elementwise comparison\n",
      "  mask |= (ar1 == a)\n"
     ]
    }
   ],
   "source": [
    "notata_scan = pd.read_csv(dir_path + \"/../data/promoter/human_epdnew_hg38_noTATA_scan.csv\", index_col=0)\n",
    "notata_scan[['id','name_2','name_3','name_4']] = notata_scan['name'].str.split(\"_\", expand = True)\n",
    "notata_scan.drop(['name_2','name_3','name_4'],inplace=True, axis=1)\n",
    "notata_scan_dev = notata_scan[notata_scan['id'].isin(notata_id)]\n",
    "notata_scan_train = notata_scan[~notata_scan['id'].isin(notata_id)]"
   ]
  },
  {
   "cell_type": "code",
   "execution_count": 55,
   "metadata": {},
   "outputs": [],
   "source": [
    "tata_scan_dev.to_csv(dir_path + \"/../data/promoter/human_epdnew_hg38_TATA_scan_test.csv\")\n",
    "notata_scan_dev.to_csv(dir_path + \"/../data/promoter/human_epdnew_hg38_noTATA_scan_test.csv\")"
   ]
  },
  {
   "cell_type": "code",
   "execution_count": null,
   "metadata": {},
   "outputs": [],
   "source": [
    "tata_scan_train.to_csv(dir_path + \"/../data/promoter/human_epdnew_hg38_TATA_scan_train.csv\")\n",
    "notata_scan_train.to_csv(dir_path + \"/../data/promoter/human_epdnew_hg38_noTATA_scan_train.csv\")"
   ]
  },
  {
   "cell_type": "code",
   "execution_count": null,
   "metadata": {},
   "outputs": [],
   "source": [
    "len(tata_scan_train[tata_scan_train['label'] == 1])"
   ]
  },
  {
   "cell_type": "code",
   "execution_count": null,
   "metadata": {},
   "outputs": [],
   "source": [
    "# add additional training data"
   ]
  },
  {
   "cell_type": "code",
   "execution_count": null,
   "metadata": {},
   "outputs": [],
   "source": []
  },
  {
   "cell_type": "code",
   "execution_count": 3,
   "metadata": {},
   "outputs": [],
   "source": [
    "## prepare fasta for input for online tools\n",
    "tata_scan_dev = pd.read_csv(dir_path + \"/../data/promoter/human_epdnew_hg38_TATA_scan_test.csv\", index_col=0)\n",
    "notata_scan_dev = pd.read_csv(dir_path + \"/../data/promoter/human_epdnew_hg38_noTATA_scan_test.csv\", index_col=0)"
   ]
  },
  {
   "cell_type": "code",
   "execution_count": 8,
   "metadata": {},
   "outputs": [],
   "source": [
    "tata_recs = [SeqRecord(Seq(row['seq'],generic_dna),id=row['name'],description=row['keys']) for i,row in tata_scan_dev.iterrows()]\n",
    "notata_recs = [SeqRecord(Seq(row['seq'],generic_dna),id=row['name'],description=row['keys']) for i,row in notata_scan_dev.iterrows()]"
   ]
  },
  {
   "cell_type": "code",
   "execution_count": 9,
   "metadata": {},
   "outputs": [
    {
     "data": {
      "text/plain": [
       "491400"
      ]
     },
     "execution_count": 9,
     "metadata": {},
     "output_type": "execute_result"
    }
   ],
   "source": [
    "SeqIO.write(tata_recs, dir_path + \"/../data/promoter/human_epdnew_hg38_TATA_scan_test.fa\", \"fasta\")\n",
    "SeqIO.write(notata_recs, dir_path + \"/../data/promoter/human_epdnew_hg38_noTATA_scan_test.fa\", \"fasta\")"
   ]
  },
  {
   "cell_type": "code",
   "execution_count": null,
   "metadata": {},
   "outputs": [],
   "source": []
  }
 ],
 "metadata": {
  "kernelspec": {
   "display_name": "Python 3",
   "language": "python",
   "name": "python3"
  },
  "language_info": {
   "codemirror_mode": {
    "name": "ipython",
    "version": 3
   },
   "file_extension": ".py",
   "mimetype": "text/x-python",
   "name": "python",
   "nbconvert_exporter": "python",
   "pygments_lexer": "ipython3",
   "version": "3.6.7"
  }
 },
 "nbformat": 4,
 "nbformat_minor": 4
}
