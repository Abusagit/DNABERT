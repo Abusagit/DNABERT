{
 "cells": [
  {
   "cell_type": "code",
   "execution_count": 1,
   "metadata": {},
   "outputs": [],
   "source": [
    "######## ::: Scan input fasta and make predictions ::: ########"
   ]
  },
  {
   "cell_type": "code",
   "execution_count": null,
   "metadata": {},
   "outputs": [],
   "source": [
    "#! conda install biopython"
   ]
  },
  {
   "cell_type": "code",
   "execution_count": 1,
   "metadata": {},
   "outputs": [],
   "source": [
    "import re\n",
    "import os\n",
    "import sys\n",
    "import numpy as np\n",
    "import pandas as pd\n",
    "from Bio import SeqIO\n",
    "from Bio.Seq import Seq\n",
    "import multiprocessing as mp"
   ]
  },
  {
   "cell_type": "code",
   "execution_count": 2,
   "metadata": {},
   "outputs": [],
   "source": [
    "dir_path = os.path.dirname(os.path.realpath('scan.ipynb'))"
   ]
  },
  {
   "cell_type": "code",
   "execution_count": 3,
   "metadata": {},
   "outputs": [],
   "source": [
    "def clean_seq(s):\n",
    "    ns = s.upper()    \n",
    "    pattern = re.compile(r'\\s+')\n",
    "    ns = re.sub(pattern, '', ns)\n",
    "    ns = re.sub(r'[^a-zA-Z]{1}', 'N', ns)\n",
    "    return ns"
   ]
  },
  {
   "cell_type": "code",
   "execution_count": 4,
   "metadata": {},
   "outputs": [],
   "source": [
    "## read in fasta\n",
    "fasta_dir = dir_path + \"/../data/genome/GRCh38.chr22.fa\"\n",
    "fasta = SeqIO.to_dict(SeqIO.parse(open(fasta_dir),'fasta'))"
   ]
  },
  {
   "cell_type": "code",
   "execution_count": 6,
   "metadata": {},
   "outputs": [],
   "source": [
    "# convert seq to str and clean seq\n",
    "fasta = {k: clean_seq(str(v.seq)) for k,v in fasta.items()}"
   ]
  },
  {
   "cell_type": "code",
   "execution_count": 25,
   "metadata": {},
   "outputs": [],
   "source": [
    "def scan(idx):\n",
    "    subseq = seq[idx - half_size: idx + half_size]\n",
    "    \n",
    "    # make index\n",
    "    if strand == \"-\":\n",
    "        idx1 = len(seq) - (idx + half_size) + 1\n",
    "        idx2 = len(seq) - (idx - half_size)\n",
    "    else:\n",
    "        idx1 = idx - half_size + 1\n",
    "        idx2 = idx + half_size\n",
    "        \n",
    "    ck = \"{}:{}-{} {}\".format(key, idx1, idx2, strand)\n",
    "    \n",
    "    if not 'N' in subseq:\n",
    "        return (ck, subseq)\n",
    "    else:\n",
    "        return None"
   ]
  },
  {
   "cell_type": "code",
   "execution_count": 29,
   "metadata": {},
   "outputs": [
    {
     "name": "stdout",
     "output_type": "stream",
     "text": [
      "Number of processors:  28\n",
      "Scanning chr22\n",
      "+ strand\n",
      "- strand\n"
     ]
    }
   ],
   "source": [
    "# multiprocessing\n",
    "print(\"Number of processors: \", mp.cpu_count())\n",
    "pool = mp.Pool(mp.cpu_count())\n",
    "\n",
    "# globals\n",
    "scan_step = 50\n",
    "half_size = 250\n",
    "start = half_size\n",
    "cutoff = 0.5\n",
    "proms = {}\n",
    "scores = {}\n",
    "\n",
    "for key in fasta.keys():\n",
    "    print(\"Scanning \" + key)\n",
    "    for strand in [\"+\", \"-\"]:\n",
    "        print(\"{} strand\".format(strand))\n",
    "        seq = fasta[key]\n",
    "        if strand == \"-\": \n",
    "            seq = seq[::-1]\n",
    "        putative = pool.map(scan, range(start, len(seq) - half_size, scan_step)) # multiprocessing\n",
    "        putative = list(filter(None,putative)) # filter subseq with N\n",
    "        proms = {k: v for (k,v) in putative} # store in dict\n",
    "        coords = [k for (k,v) in putative] # store coordinates separately\n",
    "        putative = [v for (k,v) in putative] # use only seq to predict\n",
    "        \n",
    "        ######### predict here, use putative #########\n",
    "        \n",
    "        ######### output is a list: probs #########\n",
    "        scores = {coords[i]: probs[i] for i in range(len(probs)) if probs[i] > cutoff} # filter\n",
    "        proms = {k: v for k,v in proms.items() if k in scores.keys()} # filter\n",
    "        \n",
    "pool.close()    "
   ]
  }
 ],
 "metadata": {
  "kernelspec": {
   "display_name": "Python 3",
   "language": "python",
   "name": "python3"
  },
  "language_info": {
   "codemirror_mode": {
    "name": "ipython",
    "version": 3
   },
   "file_extension": ".py",
   "mimetype": "text/x-python",
   "name": "python",
   "nbconvert_exporter": "python",
   "pygments_lexer": "ipython3",
   "version": "3.6.7"
  }
 },
 "nbformat": 4,
 "nbformat_minor": 4
}
