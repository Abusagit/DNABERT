{
 "cells": [
  {
   "cell_type": "code",
   "execution_count": 1,
   "metadata": {},
   "outputs": [],
   "source": [
    "import re\n",
    "import os\n",
    "import sys\n",
    "import numpy as np\n",
    "import pandas as pd\n",
    "from Bio import SeqIO\n",
    "from Bio import motifs\n",
    "from Bio.Seq import Seq\n",
    "from Bio.SeqRecord import SeqRecord\n",
    "from Bio.Alphabet import generic_dna"
   ]
  },
  {
   "cell_type": "code",
   "execution_count": 2,
   "metadata": {},
   "outputs": [],
   "source": [
    "dir_path = os.path.dirname(os.path.realpath('seqtofasta.ipynb'))"
   ]
  },
  {
   "cell_type": "code",
   "execution_count": 47,
   "metadata": {},
   "outputs": [],
   "source": [
    "# dev_TATA_dir = dir_path + \"/../data/promoter/tata_dev_300.tsv\"\n",
    "# dev_noTATA_dir = dir_path + \"/../data/promoter/notata_dev_300.tsv\"\n",
    "dev_TATA_dir = dir_path + \"/../../data/promoter/prom_core_dev_tata.tsv\"\n",
    "dev_noTATA_dir = dir_path + \"/../../data/promoter/prom_core_dev_notata.tsv\""
   ]
  },
  {
   "cell_type": "code",
   "execution_count": 48,
   "metadata": {},
   "outputs": [],
   "source": [
    "dev_TATA_df = pd.read_csv(dev_TATA_dir, sep=\"\\t\", header=None)\n",
    "dev_noTATA_df = pd.read_csv(dev_noTATA_dir, sep=\"\\t\", header=None)"
   ]
  },
  {
   "cell_type": "code",
   "execution_count": 49,
   "metadata": {},
   "outputs": [],
   "source": [
    "dev_TATA_df.columns = ['kmer','label']\n",
    "dev_noTATA_df.columns = ['kmer','label']"
   ]
  },
  {
   "cell_type": "code",
   "execution_count": 50,
   "metadata": {},
   "outputs": [
    {
     "data": {
      "text/html": [
       "<div>\n",
       "<style scoped>\n",
       "    .dataframe tbody tr th:only-of-type {\n",
       "        vertical-align: middle;\n",
       "    }\n",
       "\n",
       "    .dataframe tbody tr th {\n",
       "        vertical-align: top;\n",
       "    }\n",
       "\n",
       "    .dataframe thead th {\n",
       "        text-align: right;\n",
       "    }\n",
       "</style>\n",
       "<table border=\"1\" class=\"dataframe\">\n",
       "  <thead>\n",
       "    <tr style=\"text-align: right;\">\n",
       "      <th></th>\n",
       "      <th>kmer</th>\n",
       "      <th>label</th>\n",
       "    </tr>\n",
       "  </thead>\n",
       "  <tbody>\n",
       "    <tr>\n",
       "      <th>0</th>\n",
       "      <td>TGC GCA CAC ACG CGT GTG TGA GAT ATA TAG AGT GT...</td>\n",
       "      <td>0</td>\n",
       "    </tr>\n",
       "    <tr>\n",
       "      <th>1</th>\n",
       "      <td>TCT CTT TTC TCA CAA AAG AGA GAG AGG GGA GAC AC...</td>\n",
       "      <td>1</td>\n",
       "    </tr>\n",
       "    <tr>\n",
       "      <th>2</th>\n",
       "      <td>TCC CCG CGC GCC CCC CCC CCC CCT CTC TCA CAT AT...</td>\n",
       "      <td>0</td>\n",
       "    </tr>\n",
       "    <tr>\n",
       "      <th>3</th>\n",
       "      <td>GCG CGG GGG GGG GGT GTG TGA GAG AGC GCG CGG GG...</td>\n",
       "      <td>1</td>\n",
       "    </tr>\n",
       "    <tr>\n",
       "      <th>4</th>\n",
       "      <td>GCC CCT CTA TAA AAA AAT ATA TAA AAG AGT GTG TG...</td>\n",
       "      <td>1</td>\n",
       "    </tr>\n",
       "  </tbody>\n",
       "</table>\n",
       "</div>"
      ],
      "text/plain": [
       "                                                kmer  label\n",
       "0  TGC GCA CAC ACG CGT GTG TGA GAT ATA TAG AGT GT...      0\n",
       "1  TCT CTT TTC TCA CAA AAG AGA GAG AGG GGA GAC AC...      1\n",
       "2  TCC CCG CGC GCC CCC CCC CCC CCT CTC TCA CAT AT...      0\n",
       "3  GCG CGG GGG GGG GGT GTG TGA GAG AGC GCG CGG GG...      1\n",
       "4  GCC CCT CTA TAA AAA AAT ATA TAA AAG AGT GTG TG...      1"
      ]
     },
     "execution_count": 50,
     "metadata": {},
     "output_type": "execute_result"
    }
   ],
   "source": [
    "dev_noTATA_df.head()"
   ]
  },
  {
   "cell_type": "code",
   "execution_count": 51,
   "metadata": {},
   "outputs": [],
   "source": [
    "# convert kmer to seq\n",
    "def kmer2seq(kmers):\n",
    "    tokens = kmers.split(' ')\n",
    "    last_token = tokens[-1]\n",
    "    seq = [x[0] for x in tokens[:-1]]\n",
    "    seq.append(last_token)\n",
    "    return \"\".join(seq)"
   ]
  },
  {
   "cell_type": "code",
   "execution_count": 52,
   "metadata": {},
   "outputs": [
    {
     "data": {
      "text/plain": [
       "613"
      ]
     },
     "execution_count": 52,
     "metadata": {},
     "output_type": "execute_result"
    }
   ],
   "source": [
    "# # TATA\n",
    "# dev_TATA = []\n",
    "# for i, row in dev_TATA_df.iterrows():\n",
    "#     rec = SeqRecord(Seq(row['setence'],generic_dna),id=str(i), description=str(row['label']))\n",
    "#     dev_TATA.append(rec)\n",
    "# SeqIO.write(dev_TATA, dir_path + \"/../data/promoter/tata_dev_300.fa\", \"fasta\")\n",
    "# TATA\n",
    "dev_TATA = []\n",
    "for i, row in dev_TATA_df.iterrows():\n",
    "    rec = SeqRecord(Seq(kmer2seq(row['kmer']),generic_dna),id=str(i), description='tata_'+str(row['label']))\n",
    "    dev_TATA.append(rec)\n",
    "SeqIO.write(dev_TATA, dir_path + \"/../../data/promoter/prom_core_dev_tata.fa\", \"fasta\")"
   ]
  },
  {
   "cell_type": "code",
   "execution_count": 54,
   "metadata": {},
   "outputs": [
    {
     "data": {
      "text/plain": [
       "5306"
      ]
     },
     "execution_count": 54,
     "metadata": {},
     "output_type": "execute_result"
    }
   ],
   "source": [
    "# noTATA\n",
    "dev_noTATA = []\n",
    "for i, row in dev_noTATA_df.iterrows():\n",
    "    rec = SeqRecord(Seq(kmer2seq(row['kmer']),generic_dna),id=str(i), description='notata_'+str(row['label']))\n",
    "    dev_noTATA.append(rec)\n",
    "SeqIO.write(dev_noTATA, dir_path + \"/../../data/promoter/prom_core_dev_notata.fa\", \"fasta\")"
   ]
  },
  {
   "cell_type": "code",
   "execution_count": null,
   "metadata": {},
   "outputs": [],
   "source": []
  },
  {
   "cell_type": "code",
   "execution_count": 16,
   "metadata": {},
   "outputs": [],
   "source": [
    "def chunks(lst, n):\n",
    "    \"\"\"Yield successive n-sized chunks from lst.\"\"\"\n",
    "    for i in range(0, len(lst), n):\n",
    "        yield lst[i:i + n]"
   ]
  },
  {
   "cell_type": "code",
   "execution_count": 22,
   "metadata": {},
   "outputs": [],
   "source": [
    "# noTATA\n",
    "dev_noTATA = []\n",
    "for i, row in dev_noTATA_df.iterrows():\n",
    "    rec = SeqRecord(Seq(row['setence'],generic_dna),id=str(i), description=str(row['label']))\n",
    "    dev_noTATA.append(rec)\n",
    "    \n",
    "# write chunks of 1000 into fasta files\n",
    "i = 1\n",
    "for f in chunks(dev_noTATA,1000):\n",
    "    SeqIO.write(f, dir_path + \"/../data/promoter/notata_dev_300_{}.fa\".format(i), \"fasta\")\n",
    "    i += 1"
   ]
  },
  {
   "cell_type": "code",
   "execution_count": null,
   "metadata": {},
   "outputs": [],
   "source": []
  }
 ],
 "metadata": {
  "kernelspec": {
   "display_name": "Python 3",
   "language": "python",
   "name": "python3"
  },
  "language_info": {
   "codemirror_mode": {
    "name": "ipython",
    "version": 3
   },
   "file_extension": ".py",
   "mimetype": "text/x-python",
   "name": "python",
   "nbconvert_exporter": "python",
   "pygments_lexer": "ipython3",
   "version": "3.6.7"
  }
 },
 "nbformat": 4,
 "nbformat_minor": 4
}
